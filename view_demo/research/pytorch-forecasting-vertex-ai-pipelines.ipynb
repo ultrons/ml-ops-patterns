{
 "cells": [
  {
   "cell_type": "code",
   "execution_count": null,
   "metadata": {
    "id": "ur8xi4C7S06n"
   },
   "outputs": [],
   "source": [
    "# Copyright 2021 Google LLC\n",
    "#\n",
    "# Licensed under the Apache License, Version 2.0 (the \"License\");\n",
    "# you may not use this file except in compliance with the License.\n",
    "# You may obtain a copy of the License at\n",
    "#\n",
    "#     https://www.apache.org/licenses/LICENSE-2.0\n",
    "#\n",
    "# Unless required by applicable law or agreed to in writing, software\n",
    "# distributed under the License is distributed on an \"AS IS\" BASIS,\n",
    "# WITHOUT WARRANTIES OR CONDITIONS OF ANY KIND, either express or implied.\n",
    "# See the License for the specific language governing permissions and\n",
    "# limitations under the License."
   ]
  },
  {
   "cell_type": "markdown",
   "metadata": {
    "id": "JAPoU8Sm5E6e"
   },
   "source": [
    "<!-- <table align=\"left\">\n",
    "\n",
    "  <td>\n",
    "    <a href=\"https://colab.research.google.com/github/GoogleCloudPlatform/ai-platform-samples/blob/master/ai-platform-unified/notebooks/notebook_template.ipynb\"\">\n",
    "      <img src=\"https://cloud.google.com/ml-engine/images/colab-logo-32px.png\" alt=\"Colab logo\"> Run in Colab\n",
    "    </a>\n",
    "  </td>\n",
    "  <td>\n",
    "    <a href=\"https://github.com/GoogleCloudPlatform/ai-platform-samples/blob/master/ai-platform-unified/notebooks/notebook_template.ipynb\">\n",
    "      <img src=\"https://cloud.google.com/ml-engine/images/github-logo-32px.png\" alt=\"GitHub logo\">\n",
    "      View on GitHub\n",
    "    </a>\n",
    "  </td>\n",
    "</table> -->"
   ]
  },
  {
   "cell_type": "markdown",
   "metadata": {
    "id": "3yTsQctS8QLd"
   },
   "source": [
    "# Orchestrating a workflow to train and deploy a PyTorch text classification model using [Vertex Pipelines](https://cloud.google.com/vertex-ai/docs/pipelines/introduction)"
   ]
  },
  {
   "cell_type": "markdown",
   "metadata": {
    "id": "tvgnzT1CKxrO"
   },
   "source": [
    "## Overview\n",
    "\n",
    "Pytorch resnet CIFAR10 e2e example using [Vertex Pipelines](https://cloud.google.com/vertex-ai/docs/pipelines).\n",
    "\n",
    "This `kfp.v2` code currently does not run on OSS KFP, but will be able to soon once the 'v2 compatibility mode' feature is supported.\n"
   ]
  },
  {
   "cell_type": "markdown",
   "metadata": {
    "id": "ze4-nDLfK4pw"
   },
   "source": [
    "### Set up your local development environment\n",
    "\n",
    "**If you are using Colab or Google Cloud Notebooks**, your environment already meets\n",
    "all the requirements to run this notebook. You can skip this step."
   ]
  },
  {
   "cell_type": "markdown",
   "metadata": {
    "id": "gCuSR8GkAgzl"
   },
   "source": [
    "**Otherwise**, make sure your environment meets this notebook's requirements.\n",
    "You need the following:\n",
    "\n",
    "* The Google Cloud SDK\n",
    "* Git\n",
    "* Python 3\n",
    "* virtualenv\n",
    "* Jupyter notebook running in a virtual environment with Python 3\n",
    "\n",
    "The Google Cloud guide to [Setting up a Python development\n",
    "environment](https://cloud.google.com/python/setup) and the [Jupyter\n",
    "installation guide](https://jupyter.org/install) provide detailed instructions\n",
    "for meeting these requirements. The following steps provide a condensed set of\n",
    "instructions:\n",
    "\n",
    "1. [Install and initialize the Cloud SDK.](https://cloud.google.com/sdk/docs/)\n",
    "\n",
    "1. [Install Python 3.](https://cloud.google.com/python/setup#installing_python)\n",
    "\n",
    "1. [Install\n",
    "   virtualenv](https://cloud.google.com/python/setup#installing_and_using_virtualenv)\n",
    "   and create a virtual environment that uses Python 3. Activate the virtual environment.\n",
    "\n",
    "1. To install Jupyter, run `pip install jupyter` on the\n",
    "command-line in a terminal shell.\n",
    "\n",
    "1. To launch Jupyter, run `jupyter notebook` on the command-line in a terminal shell.\n",
    "\n",
    "1. Open this notebook in the Jupyter Notebook Dashboard."
   ]
  },
  {
   "cell_type": "markdown",
   "metadata": {
    "id": "i7EUnXsZhAGF"
   },
   "source": [
    "### Install additional packages\n",
    "\n"
   ]
  },
  {
   "cell_type": "markdown",
   "metadata": {
    "id": "FweS1-dyu-Vx"
   },
   "source": [
    "On colab, authenticate first:"
   ]
  },
  {
   "cell_type": "code",
   "execution_count": null,
   "metadata": {
    "id": "kZQA0KrfXCvU"
   },
   "outputs": [],
   "source": [
    "import sys\n",
    "if 'google.colab' in sys.modules:\n",
    "  from google.colab import auth\n",
    "  auth.authenticate_user()"
   ]
  },
  {
   "cell_type": "markdown",
   "metadata": {
    "id": "ijfOidzcdEWy"
   },
   "source": [
    "Then, install the libraries."
   ]
  },
  {
   "cell_type": "code",
   "execution_count": null,
   "metadata": {
    "id": "IaYsrh0Tc17L"
   },
   "outputs": [],
   "source": [
    "import os\n",
    "\n",
    "# The Google Cloud Notebook product has specific requirements\n",
    "IS_GOOGLE_CLOUD_NOTEBOOK = os.path.exists(\"/opt/deeplearning/metadata/env_version\")\n",
    "\n",
    "# Google Cloud Notebook requires dependencies to be installed with '--user'\n",
    "USER_FLAG = \"\"\n",
    "if IS_GOOGLE_CLOUD_NOTEBOOK:\n",
    "    USER_FLAG = \"--user\""
   ]
  },
  {
   "cell_type": "code",
   "execution_count": null,
   "metadata": {
    "id": "8KHmtHp6VMZU"
   },
   "outputs": [],
   "source": [
    "!pip -q install {USER_FLAG} --upgrade pytorch-lightning==1.4.9 pytorch-forecasting==0.9.1"
   ]
  },
  {
   "cell_type": "markdown",
   "metadata": {},
   "source": [
    "We will be using [Vertex SDK for Python](https://cloud.google.com/vertex-ai/docs/start/client-libraries#python) to interact with Vertex AI services. The high-level aiplatform library is designed to simplify common data science workflows by using wrapper classes and opinionated defaults."
   ]
  },
  {
   "cell_type": "markdown",
   "metadata": {},
   "source": [
    "#### Install Vertex SDK for Python"
   ]
  },
  {
   "cell_type": "code",
   "execution_count": null,
   "metadata": {
    "id": "aR7LNYMUCVKc"
   },
   "outputs": [],
   "source": [
    "!pip -q install {USER_FLAG} --upgrade kfp\n",
    "!pip -q install {USER_FLAG} --upgrade google-cloud-pipeline-components \n",
    "!pip -q install {USER_FLAG} --upgrade google-cloud-aiplatform"
   ]
  },
  {
   "cell_type": "markdown",
   "metadata": {
    "id": "hhq5zEbGg0XX"
   },
   "source": [
    "### Restart the kernel\n",
    "\n",
    "After you install the additional packages, you need to restart the notebook kernel so it can find the packages."
   ]
  },
  {
   "cell_type": "code",
   "execution_count": null,
   "metadata": {
    "id": "EzrelQZ22IZj"
   },
   "outputs": [],
   "source": [
    "# Automatically restart kernel after installs\n",
    "import os\n",
    "\n",
    "if not os.getenv(\"IS_TESTING\"):\n",
    "    # Automatically restart kernel after installs\n",
    "    import IPython\n",
    "\n",
    "    app = IPython.Application.instance()\n",
    "    app.kernel.do_shutdown(True)"
   ]
  },
  {
   "cell_type": "markdown",
   "metadata": {
    "id": "6GPgNN7eeX1l"
   },
   "source": [
    "Check the versions of the packages you installed.  The KFP SDK version should be >=1.6."
   ]
  },
  {
   "cell_type": "code",
   "execution_count": null,
   "metadata": {
    "id": "NN0mULkEeb84",
    "outputId": "c84b935a-60f7-4fe2-8f0e-319173281477"
   },
   "outputs": [],
   "source": [
    "!python3 -c \"import kfp; print('kfp version: {}'.format(kfp.__version__))\"\n",
    "!python3 -c \"import google_cloud_pipeline_components; print('google_cloud_pipeline_components version: {}'.format(google_cloud_pipeline_components.__version__))\""
   ]
  },
  {
   "cell_type": "markdown",
   "metadata": {
    "id": "lWEdiXsJg0XY"
   },
   "source": [
    "## Before you begin\n",
    "\n",
    "This notebook does not require a GPU runtime."
   ]
  },
  {
   "cell_type": "markdown",
   "metadata": {
    "id": "BF1j6f9HApxa"
   },
   "source": [
    "### Set up your Google Cloud project\n",
    "\n",
    "**The following steps are required, regardless of your notebook environment.**\n",
    "\n",
    "1. [Select or create a Google Cloud project](https://console.cloud.google.com/cloud-resource-manager). When you first create an account, you get a $300 free credit towards your compute/storage costs.\n",
    "\n",
    "1. [Make sure that billing is enabled for your project](https://cloud.google.com/billing/docs/how-to/modify-project).\n",
    "\n",
    "1. [Enable the Vertex AI API and Compute Engine API](https://console.cloud.google.com/flows/enableapi?apiid=aiplatform.googleapis.com,compute_component). \n",
    "Also [enable the Cloud Build API](https://console.cloud.google.com/flows/enableapi?apiid=cloudbuild.googleapis.com).\n",
    "\n",
    "1. If you are running this notebook locally, you will need to install the [Cloud SDK](https://cloud.google.com/sdk).\n",
    "\n",
    "1. Enter your project ID in the cell below. Then run the cell to make sure the\n",
    "Cloud SDK uses the right project for all the commands in this notebook.\n",
    "\n",
    "**Note**: Jupyter runs lines prefixed with `!` as shell commands, and it interpolates Python variables prefixed with `$` into these commands."
   ]
  },
  {
   "cell_type": "markdown",
   "metadata": {
    "id": "WReHDGG5g0XY"
   },
   "source": [
    "#### Set your project ID\n",
    "\n",
    "**If you don't know your project ID**, you may be able to get your project ID using `gcloud`."
   ]
  },
  {
   "cell_type": "code",
   "execution_count": null,
   "metadata": {
    "id": "oM1iC_MfAts1",
    "outputId": "5a1aa9eb-088f-44c3-c7e2-b793dcedc796"
   },
   "outputs": [],
   "source": [
    "import os\n",
    "# Get your Google Cloud project ID from gcloud\n",
    "shell_output=!gcloud config list --format 'value(core.project)' 2>/dev/null\n",
    "\n",
    "try:\n",
    "    PROJECT_ID = shell_output[0]\n",
    "except IndexError:\n",
    "    PROJECT_ID = None\n",
    "\n",
    "# Get your Google Cloud project ID from gcloud\n",
    "if not os.getenv(\"IS_TESTING\"):\n",
    "    shell_output=!gcloud config list --format 'value(core.project)' 2>/dev/null\n",
    "    PROJECT_ID = shell_output[0]\n",
    "    print(\"Project ID: \", PROJECT_ID)"
   ]
  },
  {
   "cell_type": "markdown",
   "metadata": {
    "id": "qJYoRfYng0XZ"
   },
   "source": [
    "Otherwise, set your project ID here."
   ]
  },
  {
   "cell_type": "code",
   "execution_count": null,
   "metadata": {
    "id": "riG_qUokg0XZ"
   },
   "outputs": [],
   "source": [
    "if PROJECT_ID == \"\" or PROJECT_ID is None:\n",
    "    PROJECT_ID = \"python-docs-samples-tests\"  # @param {type:\"string\"}"
   ]
  },
  {
   "cell_type": "markdown",
   "metadata": {
    "id": "06571eb4063b"
   },
   "source": [
    "#### Timestamp\n",
    "\n",
    "If you are in a live tutorial session, you might be using a shared test account or project. To avoid name collisions between users on resources created, you create a timestamp for each instance session, and append it onto the name of resources you create in this tutorial."
   ]
  },
  {
   "cell_type": "code",
   "execution_count": null,
   "metadata": {
    "id": "697568e92bd6"
   },
   "outputs": [],
   "source": [
    "from datetime import datetime\n",
    "\n",
    "def get_timestamp():\n",
    "    return datetime.now().strftime(\"%Y%m%d%H%M%S\")\n",
    "\n",
    "TIMESTAMP = get_timestamp()\n",
    "print(f\"TIMESTAMP = {TIMESTAMP}\")"
   ]
  },
  {
   "cell_type": "markdown",
   "metadata": {
    "id": "dr--iN2kAylZ"
   },
   "source": [
    "### Authenticate your Google Cloud account\n",
    "\n",
    "**If you are using AI Platform Notebooks**, your environment is already\n",
    "authenticated. Skip this step."
   ]
  },
  {
   "cell_type": "markdown",
   "metadata": {
    "id": "sBCra4QMA2wR"
   },
   "source": [
    "**If you are using Colab**, run the cell below and follow the instructions\n",
    "when prompted to authenticate your account via oAuth.\n",
    "\n",
    "**Otherwise**, follow these steps:\n",
    "\n",
    "1. In the Cloud Console, go to the [**Create service account key**\n",
    "   page](https://console.cloud.google.com/apis/credentials/serviceaccountkey).\n",
    "\n",
    "2. Click **Create service account**.\n",
    "\n",
    "3. In the **Service account name** field, enter a name, and\n",
    "   click **Create**.\n",
    "\n",
    "4. In the **Grant this service account access to project** section, click the **Role** drop-down list. Type \"AI Platform\"\n",
    "into the filter box, and select\n",
    "   **AI Platform Administrator**. Type \"Storage Object Admin\" into the filter box, and select **Storage Object Admin**.\n",
    "\n",
    "5. Click *Create*. A JSON file that contains your key downloads to your\n",
    "local environment.\n",
    "\n",
    "6. Enter the path to your service account key as the\n",
    "`GOOGLE_APPLICATION_CREDENTIALS` variable in the cell below and run the cell."
   ]
  },
  {
   "cell_type": "code",
   "execution_count": null,
   "metadata": {
    "id": "PyQmSRbKA8r-"
   },
   "outputs": [],
   "source": [
    "import os\n",
    "import sys\n",
    "\n",
    "# If you are running this notebook in Colab, run this cell and follow the\n",
    "# instructions to authenticate your GCP account. This provides access to your\n",
    "# Cloud Storage bucket and lets you submit training jobs and prediction\n",
    "# requests.\n",
    "\n",
    "# If on AI Platform, then don't execute this code\n",
    "if not os.path.exists(\"/opt/deeplearning/metadata/env_version\"):\n",
    "    if \"google.colab\" in sys.modules:\n",
    "        from google.colab import auth as google_auth\n",
    "\n",
    "        google_auth.authenticate_user()\n",
    "\n",
    "    # If you are running this notebook locally, replace the string below with the\n",
    "    # path to your service account key and run this cell to authenticate your GCP\n",
    "    # account.\n",
    "    elif not os.getenv(\"IS_TESTING\"):\n",
    "        %env GOOGLE_APPLICATION_CREDENTIALS ''"
   ]
  },
  {
   "cell_type": "markdown",
   "metadata": {
    "id": "NxhCPW6e46EF"
   },
   "source": [
    "### Create a Cloud Storage bucket as necessary\n",
    "\n",
    "You will need a Cloud Storage bucket for this example.  If you don't have one that you want to use, you can make one now.\n",
    "\n",
    "\n",
    "Set the name of your Cloud Storage bucket below. It must be unique across all\n",
    "Cloud Storage buckets.\n",
    "\n",
    "You may also change the `REGION` variable, which is used for operations\n",
    "throughout the rest of this notebook. Make sure to [choose a region where AI Platform (Unified) services are\n",
    "available](https://cloud.google.com/ai-platform-unified/docs/general/locations#available_regions). You may\n",
    "not use a Multi-Regional Storage bucket for training with AI Platform.\n",
    "\n",
    "**Change the bucket name below** before running the next cell."
   ]
  },
  {
   "cell_type": "code",
   "execution_count": null,
   "metadata": {
    "id": "kZPew6MljTcP"
   },
   "outputs": [],
   "source": [
    "BUCKET = \"<bucket_name_without_gs>\" \n",
    "BUCKET_NAME = f\"gs://{BUCKET}\"  # @param {type:\"string\"}\n",
    "REGION = \"us-central1\"  # @param {type:\"string\"}"
   ]
  },
  {
   "cell_type": "code",
   "execution_count": null,
   "metadata": {
    "id": "cf221059d072"
   },
   "outputs": [],
   "source": [
    "if BUCKET_NAME == \"\" or BUCKET_NAME is None or BUCKET_NAME == \"gs://[your-bucket-name]\":\n",
    "    BUCKET_NAME = \"gs://\" + PROJECT_ID + \"aip-\" + TIMESTAMP"
   ]
  },
  {
   "cell_type": "markdown",
   "metadata": {
    "id": "-EcIXiGsCePi"
   },
   "source": [
    "**Only if your bucket doesn't already exist**: Run the following cell to create your Cloud Storage bucket."
   ]
  },
  {
   "cell_type": "code",
   "execution_count": null,
   "metadata": {
    "id": "NIq7R4HZCfIc"
   },
   "outputs": [],
   "source": [
    "! gsutil mb -l $REGION $BUCKET_NAME"
   ]
  },
  {
   "cell_type": "markdown",
   "metadata": {
    "id": "ucvCsknMCims"
   },
   "source": [
    "Finally, validate access to your Cloud Storage bucket by examining its contents:"
   ]
  },
  {
   "cell_type": "code",
   "execution_count": null,
   "metadata": {
    "id": "vhOb7YnwClBb"
   },
   "outputs": [],
   "source": [
    "! gsutil ls -al $BUCKET_NAME"
   ]
  },
  {
   "cell_type": "markdown",
   "metadata": {
    "id": "e3EQyqZiEMmf"
   },
   "source": [
    "### Import libraries and define constants"
   ]
  },
  {
   "cell_type": "markdown",
   "metadata": {
    "id": "lNV3Jd8BEMmj"
   },
   "source": [
    "\n",
    "\n",
    "Define some constants. See the \"Before you begin\" section of the Managed Pipelines User Guide for information on creating your API key.\n"
   ]
  },
  {
   "cell_type": "code",
   "execution_count": null,
   "metadata": {},
   "outputs": [],
   "source": [
    "APP_NAME = \"climate-forecast\""
   ]
  },
  {
   "cell_type": "code",
   "execution_count": null,
   "metadata": {
    "id": "UwT_YZM6W5Pj",
    "outputId": "4a0a5775-ba52-48bf-a00c-e4abd80b8462"
   },
   "outputs": [],
   "source": [
    "PATH=%env PATH\n",
    "%env PATH={PATH}:/home/jupyter/.local/bin\n",
    "\n",
    "PIPELINE_ROOT = f'{BUCKET_NAME}/pipeline_root/{APP_NAME}'\n",
    "\n",
    "PIPELINE_ROOT"
   ]
  },
  {
   "cell_type": "markdown",
   "metadata": {
    "id": "wbY_UZSvEMmk"
   },
   "source": [
    "Do some imports:"
   ]
  },
  {
   "cell_type": "code",
   "execution_count": null,
   "metadata": {
    "id": "lnz2aQ_EEMmk"
   },
   "outputs": [],
   "source": [
    "import json\n",
    "from typing import NamedTuple, List\n",
    "\n",
    "from google_cloud_pipeline_components import aiplatform as aip_components\n",
    "from google.cloud import aiplatform\n",
    "from google.cloud.aiplatform import pipeline_jobs\n",
    "\n",
    "from kfp.v2 import compiler\n",
    "from kfp.v2 import dsl\n",
    "from kfp.v2.dsl import (\n",
    "    component,\n",
    "    InputPath,\n",
    "    OutputPath,\n",
    "    Input,\n",
    "    Output,\n",
    "    Artifact,\n",
    "    Dataset,\n",
    "    Model,\n",
    "    ClassificationMetrics,\n",
    "    Metrics,\n",
    ")\n",
    "from kfp.v2.google.client import AIPlatformClient\n",
    "from kfp.v2.google import experimental"
   ]
  },
  {
   "cell_type": "code",
   "execution_count": null,
   "metadata": {},
   "outputs": [],
   "source": [
    "!mkdir trainer/ predictor/ pipelines/"
   ]
  },
  {
   "cell_type": "markdown",
   "metadata": {
    "id": "ZzmFXOmeXLiT"
   },
   "source": [
    "## Define the pipeline components\n",
    "\n"
   ]
  },
  {
   "cell_type": "markdown",
   "metadata": {},
   "source": [
    "### 1. Component to run training job on Vertex AI"
   ]
  },
  {
   "cell_type": "code",
   "execution_count": null,
   "metadata": {},
   "outputs": [],
   "source": [
    "%%writefile trainer/task.py\n",
    "\n",
    "# !pip install pytorch-lightning==1.4.9\n",
    "# !pip install pytorch-forecasting==0.9.1\n",
    "\n",
    "import os\n",
    "import warnings\n",
    "\n",
    "warnings.filterwarnings(\"ignore\")  # avoid printing out absolute paths\n",
    "\n",
    "import copy\n",
    "from pathlib import Path\n",
    "import warnings\n",
    "\n",
    "import numpy as np\n",
    "import pandas as pd\n",
    "import pytorch_lightning as pl\n",
    "from pytorch_lightning.callbacks import EarlyStopping, LearningRateMonitor\n",
    "from pytorch_lightning.loggers import TensorBoardLogger\n",
    "import torch\n",
    "\n",
    "from pytorch_forecasting import Baseline, TemporalFusionTransformer, TimeSeriesDataSet\n",
    "from pytorch_forecasting.data import GroupNormalizer\n",
    "from pytorch_forecasting.metrics import SMAPE, PoissonLoss, QuantileLoss\n",
    "from pytorch_forecasting.models.temporal_fusion_transformer.tuning import optimize_hyperparameters\n",
    "\n",
    "\n",
    "MODEL_DIR = os.getenv(\"AIP_MODEL_DIR\", \"/tmp\").replace(\"gs://\", \"/gcs/\")\n",
    "print(f\"MODEL_DIR = {MODEL_DIR}\")\n",
    "\n",
    "# read source dataset\n",
    "url_data_src = 'https://storage.googleapis.com/tensorflow/tf-keras-datasets/jena_climate_2009_2016.csv.zip'\n",
    "data = pd.read_csv(url_data_src, compression='zip')\n",
    "data.columns = ['Date_Time', 'p__mbar', 'T__degC', 'Tpot__K', 'Tdew__degC', 'rh__percent',\n",
    "                'VPmax__mbar', 'VPact__mbar', 'VPdef__mbar', 'sh__g_per_kg', 'H2OC__mmol_per_mol',\n",
    "                'rho__gm_per_cubic_m', 'wv__m_per_s', 'max_w__vm_per_s', 'wd__deg'\n",
    "               ]\n",
    "\n",
    "\n",
    "# transform dataset\n",
    "data['Date_Time'] = pd.to_datetime(data['Date_Time'])\n",
    "data['series'] = 'Temp'\n",
    "# add time index\n",
    "data[\"time_idx\"] =  data[\"Date_Time\"].dt.year*365*24 + data[\"Date_Time\"].dt.dayofyear * 24 + data[\"Date_Time\"].dt.hour\n",
    "data[\"time_idx\"] -= data[\"time_idx\"].min()\n",
    "\n",
    "# create dataset and dataloaders\n",
    "pl.seed_everything(42)\n",
    "max_prediction_length = 24\n",
    "max_encoder_length = 120\n",
    "training_cutoff = data[\"time_idx\"].max() - 100*max_prediction_length\n",
    "\n",
    "time_varying_known_reals = [\n",
    "    'p__mbar',\n",
    "    'Tpot__K',\n",
    "    'Tdew__degC',\n",
    "    'rh__percent',\n",
    "    'VPmax__mbar',\n",
    "    'VPact__mbar',\n",
    "    'VPdef__mbar',\n",
    "    'sh__g_per_kg',\n",
    "    'H2OC__mmol_per_mol',\n",
    "    'rho__gm_per_cubic_m',\n",
    "    'wv__m_per_s',\n",
    "    'max_w__vm_per_s',\n",
    "    'wd__deg',\n",
    "    'time_idx'\n",
    "]\n",
    "    \n",
    "training = TimeSeriesDataSet(\n",
    "    data[lambda x: x.time_idx <= training_cutoff],\n",
    "    time_idx=\"time_idx\",\n",
    "    target=\"T__degC\",\n",
    "    #categorical_encoders={\"series\": NaNLabelEncoder().fit(data.series)},\n",
    "    group_ids=[\"series\"],\n",
    "    # only unknown variable is \"value\" - and N-Beats can also not take any additional variables\n",
    "    time_varying_unknown_reals=[\"T__degC\"],\n",
    "    time_varying_known_reals=time_varying_known_reals,\n",
    "    min_encoder_length=max_encoder_length // 2,  # keep encoder length long (as it is in the validation set)\n",
    "    max_encoder_length=max_encoder_length,\n",
    "    min_prediction_length=1,\n",
    "    max_prediction_length=max_prediction_length,\n",
    "    add_relative_time_idx=True,\n",
    "    add_target_scales=True,\n",
    "    add_encoder_length=True,\n",
    "    allow_missing_timesteps=True,\n",
    ")\n",
    "\n",
    "validation = TimeSeriesDataSet(\n",
    "    data[lambda x: x.time_idx > training_cutoff],\n",
    "    time_idx=\"time_idx\",\n",
    "    target=\"T__degC\",\n",
    "    #categorical_encoders={\"series\": NaNLabelEncoder().fit(data.series)},\n",
    "    group_ids=[\"series\"],\n",
    "    # only unknown variable is \"value\" - and N-Beats can also not take any additional variables\n",
    "    time_varying_unknown_reals=[\"T__degC\"],\n",
    "    time_varying_known_reals=time_varying_known_reals,\n",
    "    min_encoder_length=max_encoder_length // 2,  # keep encoder length long (as it is in the validation set)\n",
    "    max_encoder_length=max_encoder_length,\n",
    "    min_prediction_length=1,\n",
    "    max_prediction_length=max_prediction_length,\n",
    "    add_relative_time_idx=True,\n",
    "    add_target_scales=True,\n",
    "    add_encoder_length=True,\n",
    "    allow_missing_timesteps=True,\n",
    ")\n",
    "\n",
    "# create validation set (predict=True) which means to predict the last max_prediction_length points in time\n",
    "# for each series\n",
    "validation = TimeSeriesDataSet.from_dataset(validation, data, predict=False, stop_randomization=True)\n",
    "\n",
    "# create dataloaders for model\n",
    "batch_size = 128  # set this between 32 to 128\n",
    "train_dataloader = training.to_dataloader(train=True, batch_size=batch_size, num_workers=0)\n",
    "val_dataloader = validation.to_dataloader(train=False, batch_size=batch_size, num_workers=0)\n",
    "\n",
    "# configure network and trainer\n",
    "pl.seed_everything(42)\n",
    "trainer = pl.Trainer(\n",
    "    gpus=1,\n",
    "    # clipping gradients is a hyperparameter and important to prevent divergance\n",
    "    # of the gradient for recurrent neural networks\n",
    "    gradient_clip_val=0.1,\n",
    "    default_root_dir=MODEL_DIR\n",
    ")\n",
    "\n",
    "tft = TemporalFusionTransformer.from_dataset(\n",
    "    training,\n",
    "    # not meaningful for finding the learning rate but otherwise very important\n",
    "    learning_rate=0.03,\n",
    "    hidden_size=16,  # most important hyperparameter apart from learning rate\n",
    "    # number of attention heads. Set to up to 4 for large datasets\n",
    "    attention_head_size=1,\n",
    "    dropout=0.1,  # between 0.1 and 0.3 are good values\n",
    "    hidden_continuous_size=8,  # set to <= hidden_size\n",
    "    output_size=7,  # 7 quantiles by default\n",
    "    loss=QuantileLoss(),\n",
    "    # reduce learning rate if no improvement in validation loss after x epochs\n",
    "    reduce_on_plateau_patience=4,\n",
    ")\n",
    "print(f\"Number of parameters in network: {tft.size()/1e3:.1f}k\")\n",
    "\n",
    "# find optimal learning rate\n",
    "res = trainer.tuner.lr_find(\n",
    "    tft,\n",
    "    train_dataloaders=train_dataloader,\n",
    "    val_dataloaders=val_dataloader,\n",
    "    max_lr=10.0,\n",
    "    min_lr=1e-6,\n",
    ")\n",
    "\n",
    "print(f\"suggested learning rate: {res.suggestion()}\")\n",
    "# fig = res.plot(show=True, suggest=True)\n",
    "# fig.show()\n",
    "\n",
    "# train model\n",
    "# configure network and trainer\n",
    "early_stop_callback = EarlyStopping(monitor=\"val_loss\", min_delta=1e-4, patience=10, verbose=False, mode=\"min\")\n",
    "lr_logger = LearningRateMonitor()  # log the learning rate\n",
    "logger = TensorBoardLogger(MODEL_DIR)  # logging results to a tensorboard\n",
    "\n",
    "trainer = pl.Trainer(\n",
    "    max_epochs=1,\n",
    "    gpus=1,\n",
    "    weights_summary=\"top\",\n",
    "    gradient_clip_val=0.1,\n",
    "    #limit_train_batches=30,  # coment in for training, running valiation every 30 batches\n",
    "    #fast_dev_run=True,  # comment in to check that networkor dataset has no serious bugs\n",
    "    callbacks=[lr_logger, early_stop_callback],\n",
    "    logger=logger,\n",
    ")\n",
    "\n",
    "\n",
    "tft = TemporalFusionTransformer.from_dataset(\n",
    "    training,\n",
    "    learning_rate=res.suggestion(),\n",
    "    hidden_size=16,\n",
    "    attention_head_size=1,\n",
    "    dropout=0.1,\n",
    "    hidden_continuous_size=8,\n",
    "    output_size=7,  # 7 quantiles by default\n",
    "    loss=QuantileLoss(),\n",
    "    log_interval=0,  # uncomment for learning rate finder and otherwise, e.g. to 10 for logging every 10 batches\n",
    "    reduce_on_plateau_patience=4,\n",
    ")\n",
    "print(f\"Number of parameters in network: {tft.size()/1e3:.1f}k\")\n",
    "\n",
    "# fit network\n",
    "trainer.fit(\n",
    "    tft,\n",
    "    train_dataloaders=train_dataloader,\n",
    "    val_dataloaders=val_dataloader\n",
    ")\n",
    "\n",
    "# save the model\n",
    "if trainer.global_rank == 0:\n",
    "    torch.save(tft.state_dict(), f'{MODEL_DIR}/tft_model.pt')\n",
    "\n"
   ]
  },
  {
   "cell_type": "code",
   "execution_count": null,
   "metadata": {},
   "outputs": [],
   "source": [
    "@component(\n",
    "    # base_image=\"gcr.io/google.com/cloudsdktool/cloud-sdk:latest\", \n",
    "    base_image=\"python:3.7\",\n",
    "    packages_to_install=[\"google-cloud-aiplatform\", \"pandas\", \"fsspec\"],\n",
    "    output_component_file=\"./pipelines/submit_custom_training_job.yaml\")\n",
    "def submit_custom_training_job( \n",
    "    project: str,\n",
    "    bucket: str,\n",
    "    training_container_image_uri: str,\n",
    "    training_script_path: str,\n",
    "    model: Output[Model],\n",
    "    model_display_name: str\n",
    "):\n",
    "\n",
    "    from google.cloud import aiplatform\n",
    "    from datetime import datetime\n",
    "    import logging\n",
    "\n",
    "    import pandas as pd\n",
    "\n",
    "    TIMESTAMP = datetime.now().strftime(\"%Y%m%d%H%M%S\")\n",
    "\n",
    "    logging.info(f\"Model artifacts located at model.uri = {model.uri}\")\n",
    "    logging.info(f\"Model artifacts located at model.path = {model.path}\")\n",
    "\n",
    "    # initialize vertex sdk\n",
    "    aiplatform.init(\n",
    "        project=project, \n",
    "        staging_bucket=bucket\n",
    "    )\n",
    "\n",
    "    JOB_NAME = f\"{model_display_name}-pytorch-{TIMESTAMP}\"\n",
    "\n",
    "    # configure the job with container image spec\n",
    "    job = aiplatform.CustomTrainingJob(\n",
    "        display_name=JOB_NAME, \n",
    "        container_uri=training_container_image_uri,\n",
    "        script_path=training_script_path,\n",
    "        requirements=[\"pytorch-lightning==1.4.9\", \"pytorch-forecasting==0.9.1\"]\n",
    "    )\n",
    "\n",
    "    # define worker pool specs\n",
    "    train_replica_count = 1\n",
    "    train_machine_type = \"n1-standard-4\"\n",
    "    train_accelerator_type = \"NVIDIA_TESLA_T4\"\n",
    "    train_accelerator_count = 1\n",
    "\n",
    "    # output directories\n",
    "    # base_output_dir = f\"{bucket}/{JOB_NAME}\"\n",
    "\n",
    "    # submit the custom job to Vertex training service\n",
    "    job_response = job.run(\n",
    "        replica_count=train_replica_count,\n",
    "        machine_type=train_machine_type,\n",
    "        accelerator_type=train_accelerator_type,\n",
    "        accelerator_count=train_accelerator_count,\n",
    "        base_output_dir=model.uri\n",
    "    )\n",
    "\n",
    "    start, end = job._gca_resource.start_time, job._gca_resource.end_time\n",
    "\n",
    "    logging.info(f\"Model artifacts located at {model.uri}/model/{model_display_name}\")\n",
    "    model.metadata[\"framework\"] = \"pytorch\"\n",
    "\n",
    "    logging.info(f\"Model artifacts located at model.uri = {model.uri}\")\n",
    "    logging.info(f\"Model artifacts located at model.path = {model.path}\")\n",
    "    model.metadata[\"time_to_train_in_seconds\"] = (end - start).total_seconds()\n",
    "\n",
    "    # fetch metrics from the training job run\n",
    "    # metrics_uri = f\"{model.path}/model/{model_display_name}/all_results.json\"\n",
    "    # logging.info(f\"Reading and logging metrics from {metrics_uri}\")\n",
    "    # metrics_df = pd.read_json(metrics_uri, typ='series')\n",
    "    # for k,v  in metrics_df.items():\n",
    "    #     logging.info(f'     {k} -> {v}')\n",
    "    #     metrics.log_metric(k, v)\n",
    "\n",
    "    # capture eval metric\n",
    "    # eval_metric = metrics_df[eval_metric_key] if eval_metric_key in metrics_df.keys() else None\n",
    "    # eval_loss = metrics_df[\"eval_loss\"] if \"eval_loss\" in metrics_df.keys() else None\n",
    "    # logging.info(f'     {eval_metric_key} -> {eval_metric}')\n",
    "    # logging.info(f'     \"eval_loss\" -> {eval_loss}')\n",
    "\n",
    "    # return (eval_metric, eval_loss)"
   ]
  },
  {
   "cell_type": "code",
   "execution_count": null,
   "metadata": {},
   "outputs": [],
   "source": [
    "!gsutil cp ./trainer/task.py {BUCKET_NAME}/{APP_NAME}/train/"
   ]
  },
  {
   "cell_type": "code",
   "execution_count": null,
   "metadata": {},
   "outputs": [],
   "source": [
    "!echo {BUCKET_NAME}/{APP_NAME}/train/"
   ]
  },
  {
   "cell_type": "markdown",
   "metadata": {},
   "source": [
    "### 2. Component to create serving container image"
   ]
  },
  {
   "cell_type": "code",
   "execution_count": null,
   "metadata": {},
   "outputs": [],
   "source": [
    "%%writefile predictor/forecast_handler.py\n",
    "\n",
    "import os\n",
    "import json\n",
    "\n",
    "import torch\n",
    "from ts.torch_handler.base_handler import BaseHandler\n",
    "\n",
    "import copy\n",
    "from pathlib import Path\n",
    "import warnings\n",
    "\n",
    "import numpy as np\n",
    "import pandas as pd\n",
    "import pytorch_lightning as pl\n",
    "import torch\n",
    "\n",
    "from pytorch_forecasting import TimeSeriesDataSet\n",
    "\n",
    "import logging\n",
    "logger = logging.getLogger(__name__)\n",
    "\n",
    "class ForecastHandler(BaseHandler):\n",
    "    def __init__(self):\n",
    "        super(ForecastHandler, self).__init__()\n",
    "        self.initialized = False\n",
    "        \n",
    "    def initialize(self, ctx):\n",
    "        \"\"\" Loads the model.pt file and initialized the model object.\n",
    "        Instantiates Tokenizer for preprocessor to use\n",
    "        Loads labels to name mapping file for post-processing inference response\n",
    "        \"\"\"\n",
    "        self.manifest = ctx.manifest\n",
    "\n",
    "        properties = ctx.system_properties\n",
    "        model_dir = properties.get(\"model_dir\")\n",
    "        self.device = torch.device(\"cuda:\" + str(properties.get(\"gpu_id\")) if torch.cuda.is_available() else \"cpu\")\n",
    "\n",
    "        # Read model serialize/pt file\n",
    "        serialized_file = self.manifest[\"model\"][\"serializedFile\"]\n",
    "        model_pt_path = os.path.join(model_dir, serialized_file)\n",
    "        if not os.path.isfile(model_pt_path):\n",
    "            raise RuntimeError(\"Missing the model.pt or pytorch_model.bin file\")\n",
    "        \n",
    "        # Load model\n",
    "        self.model = torch.load(model_pt_path)\n",
    "        self.model.to(self.device)\n",
    "        self.model.eval()\n",
    "        logger.debug('Forecasting model from path {0} loaded successfully'.format(model_dir))\n",
    "\n",
    "        self.initialized = True\n",
    "        \n",
    "    def preprocess(self, inputs):\n",
    "        results = []\n",
    "        for example in inputs:\n",
    "            data = example['data']\n",
    "            \n",
    "            # Creating forecasting model expects either a dataloader or a timeseriese dataset\n",
    "            # or a pandas dataframe\n",
    "            # Eventual input to the model is dictionary of features\n",
    "            max_prediction_length = 24\n",
    "            max_encoder_length = 120\n",
    "            data = pd.DataFrame.from_dict(data)\n",
    "\n",
    "            # Adding time_idx, time_idx is NOT a feature for the model\n",
    "            # And is only used in the dataset creation \n",
    "            #data[\"time_idx\"] =  data[\"Date_Time\"].dt.year*365*24 + data[\"Date_Time\"].dt.dayofyear * 24 + data[\"Date_Time\"].dt.hour\n",
    "            #data[\"time_idx\"] -= data[\"time_idx\"].min()\n",
    "            \n",
    "            # Adding prediction length entries to all dataset creation\n",
    "            # It requires at least encoder length + prediction length inputs\n",
    "            data = pd.concat([data, data.tail(max_prediction_length)], ignore_index=True)\n",
    "            data['time_idx'] = np.arange(data.shape[0])\n",
    "\n",
    "            time_varying_known_reals = [\n",
    "                'p__mbar',\n",
    "                'Tpot__K',\n",
    "                'Tdew__degC',\n",
    "                'rh__percent',\n",
    "                'VPmax__mbar',\n",
    "                'VPact__mbar',\n",
    "                'VPdef__mbar',\n",
    "                'sh__g_per_kg',\n",
    "                'H2OC__mmol_per_mol',\n",
    "                'rho__gm_per_cubic_m',\n",
    "                'wv__m_per_s',\n",
    "                'max_w__vm_per_s',\n",
    "                'wd__deg',\n",
    "                'time_idx'\n",
    "            ]\n",
    "            inference_set = TimeSeriesDataSet(\n",
    "                data,\n",
    "                time_idx=\"time_idx\",\n",
    "                target=\"T__degC\",\n",
    "                group_ids=[\"series\"],\n",
    "                time_varying_unknown_reals=[\"T__degC\"],\n",
    "                time_varying_known_reals=time_varying_known_reals,\n",
    "                max_encoder_length=max_encoder_length,\n",
    "                max_prediction_length=max_prediction_length,\n",
    "                min_encoder_length=max_encoder_length,\n",
    "                min_prediction_length=max_prediction_length,\n",
    "                add_relative_time_idx=True,\n",
    "                add_target_scales=True,\n",
    "                add_encoder_length=True,\n",
    "                allow_missing_timesteps=True,\n",
    "                randomize_length=False,\n",
    "            )\n",
    "            #inference_set = TimeSeriesDataSet.from_dataset(inference_set, data, predict=False, stop_randomization=True)\n",
    "            results.append(inference_set)\n",
    "        logger.debug('Done creating the inference set(s).')\n",
    "        \n",
    "        return results      \n",
    "\n",
    "    def inference(self, inputs):\n",
    "        results = []\n",
    "        for inf_set in inputs:\n",
    "            results.append(self.model.predict(inf_set))\n",
    "        return torch.stack(results, dim=0)\n",
    "    \n",
    "    def postprocess(self, inputs):\n",
    "        return inputs.tolist()\n",
    "        #return inputs"
   ]
  },
  {
   "cell_type": "code",
   "execution_count": null,
   "metadata": {},
   "outputs": [],
   "source": [
    "%%bash -s $APP_NAME\n",
    "\n",
    "APP_NAME=$1\n",
    "\n",
    "cat << EOF > ./predictor/Dockerfile\n",
    "\n",
    "FROM pytorch/torchserve:latest-cpu\n",
    "\n",
    "# install dependencies\n",
    "RUN pip3 install --upgrade pip\n",
    "RUN pip3 install pytorch_lightning==1.4.9 pytorch_forecasting\n",
    "\n",
    "# copy model artifacts, custom handler and other dependencies\n",
    "COPY ./forecast_handler.py /home/model-server/\n",
    "COPY ./model/ /home/model-server/\n",
    "RUN ls -ltrR /home/model-server/\n",
    "\n",
    "# create torchserve configuration file\n",
    "USER root\n",
    "RUN printf \"\\nservice_envelope=json\" >> /home/model-server/config.properties\n",
    "RUN printf \"\\ninference_address=http://0.0.0.0:7080\" >> /home/model-server/config.properties\n",
    "RUN printf \"\\nmanagement_address=http://0.0.0.0:7081\" >> /home/model-server/config.properties\n",
    "USER model-server\n",
    "\n",
    "# expose health and prediction listener ports from the image\n",
    "EXPOSE 7080\n",
    "EXPOSE 7081\n",
    "\n",
    "# create model archive file packaging model artifacts and dependencies\n",
    "RUN torch-model-archiver -f \\\n",
    "  --model-name=$APP_NAME \\\n",
    "  --version=1.0 \\\n",
    "  --serialized-file=/home/model-server/tft_model.pt \\\n",
    "  --handler=/home/model-server/forecast_handler.py \\\n",
    "  --export-path=/home/model-server/model-store\n",
    "\n",
    "# run Torchserve HTTP serve to respond to prediction requests\n",
    "CMD [\"torchserve\", \\\n",
    "     \"--start\", \\\n",
    "     \"--ts-config=/home/model-server/config.properties\", \\\n",
    "     \"--models\", \\\n",
    "     \"$APP_NAME=$APP_NAME.mar\", \\\n",
    "     \"--model-store\", \\\n",
    "     \"/home/model-server/model-store\"]\n",
    "EOF\n",
    "\n",
    "echo \"Writing ./predictor/Dockerfile\""
   ]
  },
  {
   "cell_type": "code",
   "execution_count": null,
   "metadata": {},
   "outputs": [],
   "source": [
    "!gsutil cp ./predictor/Dockerfile {BUCKET_NAME}/{APP_NAME}/serve/\n",
    "!gsutil cp ./predictor/forecast_handler.py {BUCKET_NAME}/{APP_NAME}/serve/predictor/"
   ]
  },
  {
   "cell_type": "code",
   "execution_count": null,
   "metadata": {},
   "outputs": [],
   "source": [
    "!gsutil ls -lR {BUCKET_NAME}/{APP_NAME}/serve/"
   ]
  },
  {
   "cell_type": "code",
   "execution_count": null,
   "metadata": {},
   "outputs": [],
   "source": [
    "@component(\n",
    "    base_image=\"gcr.io/google.com/cloudsdktool/cloud-sdk:latest\",\n",
    "    # base_image=\"python:3.7\",\n",
    "    packages_to_install=[\"google-cloud-build\"],\n",
    "    output_component_file=\"./pipelines/build_custom_serving_image.yaml\",\n",
    ")\n",
    "def build_custom_serving_image(\n",
    "    project: str,\n",
    "    gs_model_artifacts: Input[Model],\n",
    "    gs_serving_dependencies_path: str,\n",
    "    model_display_name: str\n",
    ")-> NamedTuple(\n",
    "    \"Outputs\",\n",
    "    [\n",
    "        (\"serving_container_uri\", str)\n",
    "    ],\n",
    "):\n",
    "\n",
    "    from datetime import datetime, timedelta\n",
    "    from collections import namedtuple\n",
    "    import logging\n",
    "    import os\n",
    "\n",
    "    from google.cloud.devtools import cloudbuild_v1 as cloudbuild\n",
    "    from google.protobuf.duration_pb2 import Duration\n",
    "\n",
    "    logging.getLogger().setLevel(logging.INFO)\n",
    "    build_client = cloudbuild.services.cloud_build.CloudBuildClient()\n",
    "\n",
    "    logging.info(f\"gs_serving_dependencies_path: {gs_serving_dependencies_path}\")\n",
    "    logging.info(f\"gs_model_artifacts.uri: {gs_model_artifacts.uri}\")\n",
    "    logging.info(f\"gs_model_artifacts.path: {gs_model_artifacts.path}\")\n",
    "\n",
    "    gs_dockerfile_path = os.path.join(gs_serving_dependencies_path, 'Dockerfile')\n",
    "    gs_predictor_src_path = os.path.join(gs_serving_dependencies_path, 'predictor/')\n",
    "\n",
    "    build_version = datetime.now().strftime(\"%Y%m%d%H%M%S\")\n",
    "    image_name = f\"pytorch_predict_{model_display_name}\"\n",
    "    serving_image_uri = f\"gcr.io/{project}/{image_name}:{build_version}\"\n",
    "    logging.info(f\"serving_image_uri: {serving_image_uri}\")\n",
    "\n",
    "    duration = Duration()\n",
    "\n",
    "    build = cloudbuild.Build(\n",
    "        images=[serving_image_uri],\n",
    "        timeout=duration.FromTimedelta(td=timedelta(minutes=30))\n",
    "    )\n",
    "\n",
    "    build.steps = [\n",
    "        {\n",
    "            \"name\": \"gcr.io/cloud-builders/gcloud\",\n",
    "            \"entrypoint\": \"bash\",\n",
    "            \"args\": [\"-c\", \"mkdir model\"]\n",
    "        },\n",
    "        {\n",
    "            \"name\": \"gcr.io/cloud-builders/gsutil\",\n",
    "            \"args\": [\"cp\", \"-r\", f\"{gs_model_artifacts.uri}/model\", \".\"]\n",
    "        },\n",
    "        {\n",
    "            \"name\": \"gcr.io/cloud-builders/gsutil\",\n",
    "            \"args\": [\"cp\", f\"{gs_predictor_src_path}forecast_handler.py\", \".\"]\n",
    "        },\n",
    "        {\n",
    "            \"name\": \"gcr.io/cloud-builders/gsutil\",\n",
    "            \"args\": [\"cp\", gs_dockerfile_path, \"Dockerfile\"]\n",
    "        },\n",
    "        {\n",
    "            \"name\": \"gcr.io/cloud-builders/gcloud\",\n",
    "            \"entrypoint\": \"bash\",\n",
    "            \"args\": [\"-c\", \"ls -ltrR .\"]\n",
    "        },\n",
    "        {\n",
    "          \"name\": 'gcr.io/cloud-builders/docker',\n",
    "          \"args\": [ 'build', '-t', serving_image_uri, '.' ]\n",
    "        }\n",
    "    ]\n",
    "    operation = build_client.create_build(project_id=project, build=build, timeout=1800)\n",
    "    logging.info(\"IN PROGRESS:\")\n",
    "    logging.info(operation.metadata)\n",
    "\n",
    "    result = operation.result()\n",
    "    # Print the completed status\n",
    "    logging.info(\"RESULT:\", result.status)\n",
    "\n",
    "    outputs = namedtuple(\"Outputs\", [\"serving_container_uri\"])\n",
    "\n",
    "    return outputs(serving_image_uri)"
   ]
  },
  {
   "cell_type": "markdown",
   "metadata": {},
   "source": [
    "### 4. Component to test model deployment making online prediction requests"
   ]
  },
  {
   "cell_type": "code",
   "execution_count": null,
   "metadata": {},
   "outputs": [],
   "source": [
    "@component(\n",
    "    base_image=\"gcr.io/google.com/cloudsdktool/cloud-sdk:latest\",\n",
    "    # base_image=\"python:3.7\",\n",
    "    # packages_to_install=[\"google-cloud-build\", \"google-cloud-aiplatform\"],\n",
    "    packages_to_install=[\"google-cloud-aiplatform\"],\n",
    "    output_component_file=\"./pipelines/make_prediction_request.yaml\")\n",
    "def make_prediction_request( \n",
    "    project: str,\n",
    "    bucket: str,\n",
    "    endpoint: str,\n",
    "    instances: list\n",
    "    ):\n",
    "    from datetime import datetime\n",
    "    import logging\n",
    "    import base64\n",
    "    import ast\n",
    "\n",
    "    from google.cloud import aiplatform\n",
    "\n",
    "    logging.getLogger().setLevel(logging.INFO)\n",
    "    aiplatform.init(project=project, staging_bucket=bucket)\n",
    "    logging.info(f\"Endpoint: {endpoint}\")\n",
    "    endpoint = ast.literal_eval(endpoint)\n",
    "    endpoint_uri = endpoint[\"resources\"][0][\"resourceUri\"]\n",
    "    logging.info(f\"Endpoint URI: {endpoint_uri}\")\n",
    "    _endpoint = aiplatform.Endpoint(\"/\".join(endpoint_uri.split(\"/\")[4:-2]))\n",
    "\n",
    "    for instance in instances:\n",
    "        # if not isinstance(instance, (bytes, bytearray)):\n",
    "        #     instance = instance.encode()\n",
    "        # logging.info(f\"Input list: {instance.decode('utf-8')}\")\n",
    "        # b64_encoded = base64.b64encode(instance)\n",
    "        # test_instance = [{\"data\": {\"b64\": f\"{str(b64_encoded.decode('utf-8'))}\"}}]\n",
    "        response = _endpoint.predict(instances=instance)\n",
    "        logging.info(f\"Prediction response: {response.predictions}\")"
   ]
  },
  {
   "cell_type": "code",
   "execution_count": null,
   "metadata": {},
   "outputs": [],
   "source": [
    "uri = \"https://us-central1-aiplatform.googleapis.com/v1/projects/560224572293/locations/us-central1/endpoints/8159546158469873664/operations/5813651307910660096\"\n"
   ]
  },
  {
   "cell_type": "markdown",
   "metadata": {},
   "source": [
    "## Define Pipeline"
   ]
  },
  {
   "cell_type": "code",
   "execution_count": null,
   "metadata": {},
   "outputs": [],
   "source": [
    "@dsl.pipeline(\n",
    "    name=\"pytorch-text-classifier-pipeline\",\n",
    "    pipeline_root=PIPELINE_ROOT,\n",
    ")\n",
    "def pytorch_forecasting_pipeline(\n",
    "    project: str,\n",
    "    bucket: str,\n",
    "    region: str,\n",
    "    training_container_image_uri: str,\n",
    "    gs_train_script_path: str,\n",
    "    gs_serving_dependencies_path: str,\n",
    "    model_display_name: str,\n",
    "    serving_container_health_route: str,\n",
    "    serving_container_predict_route: str,\n",
    "    serving_container_ports: list,\n",
    "    pipeline_job_id: str,\n",
    "    pipeline_name: str,\n",
    "    is_hp_tuning_enabled: str = 'n',\n",
    "    tensorboard_instance: str = None\n",
    "):\n",
    "    run_train_task = submit_custom_training_job(\n",
    "        project=project,\n",
    "        bucket=bucket,\n",
    "        training_container_image_uri=training_container_image_uri,\n",
    "        training_script_path=gs_train_script_path,\n",
    "        model_display_name=model_display_name\n",
    "    ).set_caching_options(True).set_display_name(\"Train forecasting model\")\n",
    "    \n",
    "    # build custom container for serving predictions using \n",
    "    # the trained model artifacts served by TorchServe\n",
    "    build_custom_serving_image_task = build_custom_serving_image(\n",
    "        project=project,\n",
    "        gs_model_artifacts=run_train_task.outputs[\"model\"],\n",
    "        gs_serving_dependencies_path=gs_serving_dependencies_path,\n",
    "        model_display_name=model_display_name\n",
    "    ).set_caching_options(True).set_display_name(\"Build TorchServe serving image\")\n",
    "\n",
    "    # upload model to vertex ai\n",
    "    # NOTE: model artifacts and the prediction handler are part of the container\n",
    "    serving_container_image_uri = build_custom_serving_image_task.outputs['serving_container_uri']\n",
    "    model_upload_task = aip_components.ModelUploadOp(\n",
    "        project=project, \n",
    "        display_name=model_display_name,\n",
    "        serving_container_image_uri=serving_container_image_uri,\n",
    "        serving_container_predict_route=serving_container_predict_route,\n",
    "        serving_container_health_route=serving_container_health_route,\n",
    "        serving_container_ports=serving_container_ports\n",
    "    ).set_caching_options(True).set_display_name(\"Upload model\")\n",
    "\n",
    "    # create endpoint to deploy one or more models\n",
    "    # An endpoint provides a service URL where the prediction requests are sent\n",
    "    endpoint_create_task = aip_components.EndpointCreateOp(\n",
    "        project=project,\n",
    "        display_name=model_display_name,\n",
    "    ).set_caching_options(True).set_display_name(\"Create endpoint\")\n",
    "\n",
    "    # deploy models to endpoint to associates physical resources with the model \n",
    "    # so it can serve online predictions \n",
    "    model_deploy_task = aip_components.ModelDeployOp(\n",
    "        endpoint=endpoint_create_task.outputs[\"endpoint\"],\n",
    "        model=model_upload_task.outputs[\"model\"],\n",
    "        deployed_model_display_name=model_display_name,\n",
    "        dedicated_resources_machine_type=\"n1-standard-4\",\n",
    "        dedicated_resources_min_replica_count=1,\n",
    "        dedicated_resources_max_replica_count=1,\n",
    "        traffic_split='{ \"0\": 100 }'\n",
    "    ).set_caching_options(True).set_display_name(\"Deploy model to endpoint\")\n",
    "\n",
    "    # test model deployment by making online prediction requests\n",
    "    df_test = [\n",
    "        [996.52, -8.02, 265.40, -8.90, 93.3, 3.33, 3.11, 0.22, 1.94, 3.12, 1307.75, 1.03, 1.75, 152.3]\n",
    "    ]\n",
    "    predict_test_instances_task = make_prediction_request(\n",
    "        project,\n",
    "        bucket,\n",
    "        model_deploy_task.outputs['gcp_resources'],\n",
    "        df_test\n",
    "    ).set_caching_options(True).set_display_name(\"Test model deployment\")\n"
   ]
  },
  {
   "cell_type": "code",
   "execution_count": null,
   "metadata": {},
   "outputs": [],
   "source": [
    "PIPELINE_JSON_SPEC_PATH = './pipelines/pytorch_climate_forecast_pipeline_spec.json'"
   ]
  },
  {
   "cell_type": "code",
   "execution_count": null,
   "metadata": {
    "id": "xREwNd4b2Oif"
   },
   "outputs": [],
   "source": [
    "compiler.Compiler().compile(\n",
    "    pipeline_func=pytorch_forecasting_pipeline,\n",
    "    package_path=PIPELINE_JSON_SPEC_PATH)"
   ]
  },
  {
   "cell_type": "code",
   "execution_count": null,
   "metadata": {
    "id": "r9jd9MW_2gyx"
   },
   "outputs": [],
   "source": [
    "aiplatform.init(project=PROJECT_ID, location=REGION)"
   ]
  },
  {
   "cell_type": "code",
   "execution_count": null,
   "metadata": {},
   "outputs": [],
   "source": [
    "PIPELINE_NAME = f\"pytorch-climate-forecasting-pipeline\"\n",
    "PIPELINE_JOB_ID = f\"pipeline-{APP_NAME}-{get_timestamp()}\"\n",
    "TRAIN_APP_CODE_PATH = f\"/gcs/{BUCKET}/{APP_NAME}/train/task.py\"\n",
    "# {BUCKET_NAME}/{APP_NAME}/train/\"\n",
    "SERVE_DEPENDENCIES_PATH = f\"{BUCKET_NAME}/{APP_NAME}/serve/\"\n",
    "pipeline_params = {\n",
    "    \"training_container_image_uri\": \"us-docker.pkg.dev/vertex-ai/training/pytorch-gpu.1-9:latest\",\n",
    "    \"gs_train_script_path\": TRAIN_APP_CODE_PATH,\n",
    "    \"gs_serving_dependencies_path\": SERVE_DEPENDENCIES_PATH,\n",
    "    \"project\": PROJECT_ID,\n",
    "    \"bucket\": BUCKET_NAME,\n",
    "    \"region\": REGION,\n",
    "    \"model_display_name\": APP_NAME,\n",
    "    \"serving_container_health_route\": \"/ping\",\n",
    "    \"serving_container_predict_route\": f\"/predictions/{APP_NAME}\",\n",
    "    \"serving_container_ports\": [{\"containerPort\" : 7080}],\n",
    "    \"is_hp_tuning_enabled\": \"n\",\n",
    "    \"pipeline_name\": PIPELINE_NAME,\n",
    "    \"pipeline_job_id\": PIPELINE_JOB_ID,\n",
    "    \"tensorboard_instance\": \"projects/560224572293/locations/us-central1/tensorboards/3406515721268625408\"\n",
    "}"
   ]
  },
  {
   "cell_type": "code",
   "execution_count": null,
   "metadata": {},
   "outputs": [],
   "source": [
    "pipeline_job = aiplatform.PipelineJob(\n",
    "    display_name=PIPELINE_NAME,\n",
    "    job_id=PIPELINE_JOB_ID,\n",
    "    template_path=PIPELINE_JSON_SPEC_PATH,\n",
    "    pipeline_root=PIPELINE_ROOT,\n",
    "    parameter_values=pipeline_params,\n",
    "    enable_caching=True\n",
    ")"
   ]
  },
  {
   "cell_type": "code",
   "execution_count": null,
   "metadata": {},
   "outputs": [],
   "source": [
    "response = pipeline_job.run(sync=False)\n",
    "response"
   ]
  },
  {
   "cell_type": "code",
   "execution_count": null,
   "metadata": {},
   "outputs": [],
   "source": [
    "df = aiplatform.get_pipeline_df(pipeline=PIPELINE_NAME.replace(\"_\", \"-\"))\n",
    "df"
   ]
  }
 ],
 "metadata": {
  "colab": {
   "collapsed_sections": [],
   "name": "e2e_pipeline_pytorch_cifar.ipynb",
   "provenance": []
  },
  "environment": {
   "kernel": "python3",
   "name": "pytorch-gpu.1-9.m82",
   "type": "gcloud",
   "uri": "gcr.io/deeplearning-platform-release/pytorch-gpu.1-9:m82"
  },
  "interpreter": {
   "hash": "d4d1e4263499bec80672ea0156c357c1ee493ec2b1c70f0acce89fc37c4a6abe"
  },
  "kernelspec": {
   "display_name": "Python 3",
   "language": "python",
   "name": "python3"
  },
  "language_info": {
   "codemirror_mode": {
    "name": "ipython",
    "version": 3
   },
   "file_extension": ".py",
   "mimetype": "text/x-python",
   "name": "python",
   "nbconvert_exporter": "python",
   "pygments_lexer": "ipython3",
   "version": "3.7.10"
  },
  "toc-autonumbering": false
 },
 "nbformat": 4,
 "nbformat_minor": 4
}
