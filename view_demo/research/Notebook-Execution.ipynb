{
 "cells": [
  {
   "cell_type": "code",
   "execution_count": null,
   "metadata": {},
   "outputs": [],
   "source": [
    "#!pip install google-cloud-notebooks"
   ]
  },
  {
   "cell_type": "code",
   "execution_count": null,
   "metadata": {},
   "outputs": [],
   "source": [
    "# from google.cloud import notebooks"
   ]
  },
  {
   "cell_type": "code",
   "execution_count": null,
   "metadata": {},
   "outputs": [],
   "source": [
    "#notebooks_client = notebooks.NotebookServiceClient()"
   ]
  },
  {
   "cell_type": "code",
   "execution_count": null,
   "metadata": {},
   "outputs": [],
   "source": [
    "from googleapiclient import discovery\n",
    "from googleapiclient import errors"
   ]
  },
  {
   "cell_type": "code",
   "execution_count": null,
   "metadata": {},
   "outputs": [],
   "source": [
    "notebooks = discovery.build('notebooks', 'v1')"
   ]
  },
  {
   "cell_type": "code",
   "execution_count": null,
   "metadata": {},
   "outputs": [],
   "source": [
    "project_id = 'pytorch-tpu-nfs'\n",
    "location = 'us-central1'\n",
    "parent = f'projects/{project_id}/locations/{location}'\n"
   ]
  },
  {
   "cell_type": "code",
   "execution_count": null,
   "metadata": {},
   "outputs": [],
   "source": [
    "request = notebooks.projects().locations().executions().list(parent=parent)\n",
    "request.execute()"
   ]
  },
  {
   "cell_type": "code",
   "execution_count": null,
   "metadata": {},
   "outputs": [],
   "source": [
    "execution_template = {\n",
    "    \"scaleTier\": \"BASIC\",\n",
    "    \"masterType\": \"n1-standard-16\",\n",
    "    \"acceleratorConfig\": {\n",
    "          \"type\": \"NVIDIA_TESLA_K80\",\n",
    "          \"coreCount\": 1\n",
    "    },\n",
    "    \"inputNotebookFile\": \"gs://automl-samples/demo/view_demo/research/EDA_BQ.ipynb\",\n",
    "    \"containerImageUri\": \"gcr.io/deeplearning-platform-release/tf2-gpu.2-3\",\n",
    "    \"outputNotebookFolder\": \"gs://automl-samples/exec-out\",\n",
    "}"
   ]
  },
  {
   "cell_type": "code",
   "execution_count": null,
   "metadata": {},
   "outputs": [],
   "source": [
    "execution_spec = {\n",
    "    \"executionTemplate\": execution_template,\n",
    "  \"description\": \"Submitting a random notebook\",\n",
    "}"
   ]
  },
  {
   "cell_type": "code",
   "execution_count": null,
   "metadata": {},
   "outputs": [],
   "source": [
    "request = notebooks.projects().locations().executions().create(body=execution_spec, parent=parent, executionId=\"alpha123\")"
   ]
  },
  {
   "cell_type": "code",
   "execution_count": null,
   "metadata": {},
   "outputs": [],
   "source": [
    "response = request.execute()"
   ]
  },
  {
   "cell_type": "code",
   "execution_count": null,
   "metadata": {},
   "outputs": [],
   "source": [
    "response"
   ]
  },
  {
   "cell_type": "code",
   "execution_count": null,
   "metadata": {},
   "outputs": [],
   "source": [
    "executionId = \"alpha123\"\n",
    "name = f\"projects/{project_id}/locations/{location}/executions/{executionId}\"\n",
    "request = notebooks.projects().locations().executions().get(name=name)\n",
    "try: \n",
    "    request.execute()\n",
    "except errors.HttpError as err:\n",
    "    print(err)"
   ]
  },
  {
   "cell_type": "code",
   "execution_count": null,
   "metadata": {},
   "outputs": [],
   "source": []
  }
 ],
 "metadata": {
  "environment": {
   "name": "tf2-2-3-gpu.2-3.m55",
   "type": "gcloud",
   "uri": "gcr.io/deeplearning-platform-release/tf2-2-3-gpu.2-3:m55"
  },
  "kernelspec": {
   "display_name": "Python 3",
   "language": "python",
   "name": "python3"
  },
  "language_info": {
   "codemirror_mode": {
    "name": "ipython",
    "version": 3
   },
   "file_extension": ".py",
   "mimetype": "text/x-python",
   "name": "python",
   "nbconvert_exporter": "python",
   "pygments_lexer": "ipython3",
   "version": "3.7.8"
  }
 },
 "nbformat": 4,
 "nbformat_minor": 4
}
