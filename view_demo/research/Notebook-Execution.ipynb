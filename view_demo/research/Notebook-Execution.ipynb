{
 "cells": [
  {
   "cell_type": "code",
   "execution_count": 43,
   "metadata": {},
   "outputs": [],
   "source": [
    "#!pip install google-cloud-notebooks"
   ]
  },
  {
   "cell_type": "code",
   "execution_count": 44,
   "metadata": {},
   "outputs": [],
   "source": [
    "# from google.cloud import notebooks"
   ]
  },
  {
   "cell_type": "code",
   "execution_count": 45,
   "metadata": {},
   "outputs": [],
   "source": [
    "#notebooks_client = notebooks.NotebookServiceClient()"
   ]
  },
  {
   "cell_type": "code",
   "execution_count": 5,
   "metadata": {},
   "outputs": [],
   "source": [
    "from googleapiclient import discovery\n",
    "from googleapiclient import errors"
   ]
  },
  {
   "cell_type": "code",
   "execution_count": 53,
   "metadata": {},
   "outputs": [],
   "source": [
    "notebooks = discovery.build('notebooks', 'v1')"
   ]
  },
  {
   "cell_type": "code",
   "execution_count": 54,
   "metadata": {},
   "outputs": [],
   "source": [
    "project_id = 'pytorch-tpu-nfs'\n",
    "location = 'us-central1-a'\n",
    "parent = f'projects/{project_id}/locations/{location}'\n"
   ]
  },
  {
   "cell_type": "code",
   "execution_count": 55,
   "metadata": {},
   "outputs": [
    {
     "data": {
      "text/plain": [
       "{}"
      ]
     },
     "execution_count": 55,
     "metadata": {},
     "output_type": "execute_result"
    }
   ],
   "source": [
    "request = notebooks.projects().locations().executions().list(parent=parent)\n",
    "request.execute()"
   ]
  },
  {
   "cell_type": "code",
   "execution_count": 26,
   "metadata": {},
   "outputs": [],
   "source": [
    "execution_template = {\n",
    "    \"scaleTier\": \"BASIC\",\n",
    "    \"masterType\": \"n1-standard-16\",\n",
    "    \"acceleratorConfig\": {\n",
    "          \"type\": \"NVIDIA_TESLA_K80\",\n",
    "          \"coreCount\": 1\n",
    "    },\n",
    "    \"inputNotebookFile\": \"gs://automl-samples/demo/view_demo/research/EDA_BQ.ipynb\",\n",
    "    \"containerImageUri\": \"gcr.io/deeplearning-platform-release/tf2-gpu.2-3\",\n",
    "    \"outputNotebookFolder\": \"gs://automl-samples/exec-out\",\n",
    "}"
   ]
  },
  {
   "cell_type": "code",
   "execution_count": 27,
   "metadata": {},
   "outputs": [],
   "source": [
    "execution_spec = {\n",
    "    \"executionTemplate\": execution_template,\n",
    "  \"description\": \"Submitting a random notebook\",\n",
    "}"
   ]
  },
  {
   "cell_type": "code",
   "execution_count": 38,
   "metadata": {},
   "outputs": [],
   "source": [
    "request = notebooks.projects().locations().executions().create(body=execution_spec, parent=parent, executionId=\"alpha123\")"
   ]
  },
  {
   "cell_type": "code",
   "execution_count": 39,
   "metadata": {},
   "outputs": [],
   "source": [
    "response = request.execute()"
   ]
  },
  {
   "cell_type": "code",
   "execution_count": 40,
   "metadata": {},
   "outputs": [
    {
     "data": {
      "text/plain": [
       "{'name': 'projects/pytorch-tpu-nfs/locations/us-central1-a/operations/operation-1622418622680-5c394c5ae8e22-c6453f24-3e56fde1',\n",
       " 'metadata': {'@type': 'type.googleapis.com/google.cloud.notebooks.v1.OperationMetadata',\n",
       "  'createTime': '2021-05-30T23:50:22.691477608Z',\n",
       "  'target': 'projects/pytorch-tpu-nfs/locations/us-central1-a/executions/alpha123',\n",
       "  'verb': 'create',\n",
       "  'requestedCancellation': False,\n",
       "  'apiVersion': 'v1',\n",
       "  'endpoint': 'CreateExecution'},\n",
       " 'done': False}"
      ]
     },
     "execution_count": 40,
     "metadata": {},
     "output_type": "execute_result"
    }
   ],
   "source": [
    "response"
   ]
  },
  {
   "cell_type": "code",
   "execution_count": 49,
   "metadata": {},
   "outputs": [
    {
     "name": "stdout",
     "output_type": "stream",
     "text": [
      "<HttpError 404 when requesting https://notebooks.googleapis.com/v1/projects/pytorch-tpu-nfs/locations/us-central1-a/executions/alpha123?alt=json returned \"Resource 'projects/pytorch-tpu-nfs/locations/us-central1-a/executions/alpha123' was not found\". Details: \"[{'@type': 'type.googleapis.com/google.rpc.ResourceInfo', 'resourceName': 'projects/pytorch-tpu-nfs/locations/us-central1-a/executions/alpha123'}]\">\n"
     ]
    }
   ],
   "source": [
    "executionId = \"alpha123\"\n",
    "name = f\"projects/{project_id}/locations/{location}/executions/{executionId}\"\n",
    "request = notebooks.projects().locations().executions().get(name=name)\n",
    "try: \n",
    "    request.execute()\n",
    "except errors.HttpError as err:\n",
    "    print(err)"
   ]
  },
  {
   "cell_type": "code",
   "execution_count": null,
   "metadata": {},
   "outputs": [],
   "source": []
  }
 ],
 "metadata": {
  "environment": {
   "name": "tf2-2-3-gpu.2-3.m55",
   "type": "gcloud",
   "uri": "gcr.io/deeplearning-platform-release/tf2-2-3-gpu.2-3:m55"
  },
  "kernelspec": {
   "display_name": "Python 3",
   "language": "python",
   "name": "python3"
  },
  "language_info": {
   "codemirror_mode": {
    "name": "ipython",
    "version": 3
   },
   "file_extension": ".py",
   "mimetype": "text/x-python",
   "name": "python",
   "nbconvert_exporter": "python",
   "pygments_lexer": "ipython3",
   "version": "3.7.8"
  }
 },
 "nbformat": 4,
 "nbformat_minor": 4
}
