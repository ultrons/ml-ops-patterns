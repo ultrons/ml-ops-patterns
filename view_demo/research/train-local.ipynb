{
 "cells": [
  {
   "cell_type": "code",
   "execution_count": null,
   "metadata": {},
   "outputs": [],
   "source": [
    "from view_demo.utils import env_vars as evar\n",
    "\n",
    "experiment_prefix = evar.EXPERIMENT_PREFIX\n",
    "project_id = evar.PROJECT_ID\n",
    "dataset_id = evar.DATASET_ID\n",
    "table_id = evar.TABLE_ID\n",
    "staging_bucket = evar.STAGING_BUCKET\n",
    "location = evar.REGION\n",
    "training_image_uri = evar.BASE_TRAINING_IMAGE\n",
    "experiment_prefix = evar.EXPERIMENT_PREFIX\n",
    "context_window = evar.CONTEXT_WINDOW\n",
    "tf_serving_image = evar.TF_SERVING_IMAGE\n",
    "\n",
    "run_id = f'context-window-{context_window}'"
   ]
  },
  {
   "cell_type": "code",
   "execution_count": null,
   "metadata": {},
   "outputs": [],
   "source": [
    "from view_demo.train.custom_tf_trainer import trainer\n",
    "from view_demo.preprocess.window import Generator as WindowGenerator\n",
    "from view_demo.models.baseline import linear\n",
    "experiment_tracking_on = staging_bucket is not None\n",
    "trainer = trainer(\n",
    "   project_id,\n",
    "   location,\n",
    "   dataset_id,\n",
    "   table_id\n",
    ")\n",
    "trainer.read_dataset()\n",
    "train_df, val_df, test_df = trainer.create_split()\n",
    "wide_window = WindowGenerator(\n",
    "    input_width=context_window, label_width=context_window, shift=1,\n",
    "    label_columns=['T__degC'],\n",
    "    train_df=train_df,\n",
    "    test_df=test_df,\n",
    "    val_df=val_df)\n",
    "history = trainer.compile_and_fit(linear, wide_window)\n",
    "if experiment_tracking_on:\n",
    "    from google.cloud import aiplatform\n",
    "    aiplatform.init(\n",
    "        project=project_id,\n",
    "        staging_bucket=staging_bucket,\n",
    "        experiment=experiment_id\n",
    "    )\n",
    "    aiplatform.start_run(run=run_id)\n",
    "    aiplatform.log_metrics({\"val_loss\": history.history['val_loss'][-1]})\n",
    "    aiplatform.log_metrics({\"val_mae\": history.history['val_mean_absolute_error'][-1]})\n",
    "    aiplatform.log_metrics({\"train_loss\": history.history['loss'][-1]})\n",
    "    aiplatform.log_metrics({\"train_mae\": history.history['mean_absolute_error'][-1]})"
   ]
  },
  {
   "cell_type": "code",
   "execution_count": null,
   "metadata": {},
   "outputs": [],
   "source": []
  }
 ],
 "metadata": {
  "environment": {
   "name": "tf2-2-3-gpu.2-3.m55",
   "type": "gcloud",
   "uri": "gcr.io/deeplearning-platform-release/tf2-2-3-gpu.2-3:m55"
  },
  "kernelspec": {
   "display_name": "Python 3",
   "language": "python",
   "name": "python3"
  },
  "language_info": {
   "codemirror_mode": {
    "name": "ipython",
    "version": 3
   },
   "file_extension": ".py",
   "mimetype": "text/x-python",
   "name": "python",
   "nbconvert_exporter": "python",
   "pygments_lexer": "ipython3",
   "version": "3.7.8"
  }
 },
 "nbformat": 4,
 "nbformat_minor": 4
}
