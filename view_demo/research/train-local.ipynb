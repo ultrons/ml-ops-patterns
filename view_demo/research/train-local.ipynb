{
 "cells": [
  {
   "cell_type": "code",
   "execution_count": 1,
   "metadata": {},
   "outputs": [],
   "source": [
    "project_id = 'pytorch-tpu-nfs'\n",
    "dataset_id = 'view_dataset'\n",
    "table_id = 'weather_time_series'\n",
    "experiment_id = 'weather-exp'\n",
    "staging_bucket = 'gs://automl-samples'\n",
    "location='us-central1'\n",
    "context_window = 24\n",
    "run_id = f'context-window-{context_window}'"
   ]
  },
  {
   "cell_type": "code",
   "execution_count": 4,
   "metadata": {},
   "outputs": [
    {
     "name": "stdout",
     "output_type": "stream",
     "text": [
      "10732/10732 [==============================] - 44s 4ms/step - loss: 73.4800 - mean_absolute_error: 3.1547 - val_loss: 3.5103 - val_mean_absolute_error: 0.9004\n"
     ]
    }
   ],
   "source": [
    "from view_demo.train.custom_tf_trainer import trainer\n",
    "from view_demo.preprocess.window import Generator as WindowGenerator\n",
    "from view_demo.models.baseline import linear\n",
    "experiment_tracking_on = staging_bucket is not None\n",
    "trainer = trainer(\n",
    "   project_id,\n",
    "   location,\n",
    "   dataset_id,\n",
    "   table_id\n",
    ")\n",
    "trainer.read_dataset()\n",
    "train_df, val_df, test_df = trainer.create_split()\n",
    "wide_window = WindowGenerator(\n",
    "    input_width=context_window, label_width=context_window, shift=1,\n",
    "    label_columns=['T__degC'],\n",
    "    train_df=train_df,\n",
    "    test_df=test_df,\n",
    "    val_df=val_df)\n",
    "history = trainer.compile_and_fit(linear, wide_window)\n",
    "if experiment_tracking_on:\n",
    "    from google.cloud import aiplatform\n",
    "    aiplatform.init(\n",
    "        project=project_id,\n",
    "        staging_bucket=staging_bucket,\n",
    "        experiment=experiment_id\n",
    "    )\n",
    "    aiplatform.start_run(run=run_id)\n",
    "    aiplatform.log_metrics({\"val_loss\": history.history['val_loss'][-1]})\n",
    "    aiplatform.log_metrics({\"val_mae\": history.history['val_mean_absolute_error'][-1]})\n",
    "    aiplatform.log_metrics({\"train_loss\": history.history['loss'][-1]})\n",
    "    aiplatform.log_metrics({\"train_mae\": history.history['mean_absolute_error'][-1]})"
   ]
  },
  {
   "cell_type": "code",
   "execution_count": null,
   "metadata": {},
   "outputs": [],
   "source": []
  }
 ],
 "metadata": {
  "environment": {
   "name": "tf2-2-3-gpu.2-3.m55",
   "type": "gcloud",
   "uri": "gcr.io/deeplearning-platform-release/tf2-2-3-gpu.2-3:m55"
  },
  "kernelspec": {
   "display_name": "Python 3",
   "language": "python",
   "name": "python3"
  },
  "language_info": {
   "codemirror_mode": {
    "name": "ipython",
    "version": 3
   },
   "file_extension": ".py",
   "mimetype": "text/x-python",
   "name": "python",
   "nbconvert_exporter": "python",
   "pygments_lexer": "ipython3",
   "version": "3.7.8"
  }
 },
 "nbformat": 4,
 "nbformat_minor": 4
}
