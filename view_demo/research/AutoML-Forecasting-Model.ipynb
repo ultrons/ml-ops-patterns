{
 "cells": [
  {
   "cell_type": "code",
   "execution_count": null,
   "metadata": {
    "id": "ur8xi4C7S06n"
   },
   "outputs": [],
   "source": [
    "# Copyright 2020 Google LLC\n",
    "#\n",
    "# Licensed under the Apache License, Version 2.0 (the \"License\");\n",
    "# you may not use this file except in compliance with the License.\n",
    "# You may obtain a copy of the License at\n",
    "#\n",
    "#     https://www.apache.org/licenses/LICENSE-2.0\n",
    "#\n",
    "# Unless required by applicable law or agreed to in writing, software\n",
    "# distributed under the License is distributed on an \"AS IS\" BASIS,\n",
    "# WITHOUT WARRANTIES OR CONDITIONS OF ANY KIND, either express or implied.\n",
    "# See the License for the specific language governing permissions and\n",
    "# limitations under the License."
   ]
  },
  {
   "cell_type": "markdown",
   "metadata": {
    "id": "eHLV0D7Y5jtU"
   },
   "source": [
    "# AI Platform (Unified) Model Builder SDK: AutoML Forecasting Model Training Example\n",
    "\n",
    "To use this Colaboratory notebook, you copy the notebook to your own Google Drive and open it with Colaboratory (or Colab). You can run each step, or cell, and see its results. To run a cell, use Shift+Enter. Colab automatically displays the return value of the last line in each cell. For more information about running notebooks in Colab, see the [Colab welcome page](https://colab.research.google.com/notebooks/welcome.ipynb).\n",
    "\n",
    "This notebook demonstrates how to create an AutoML model based on a time series dataset. It will require you provide a bucket where the dataset will be stored.\n",
    "\n",
    "Note: you may incur charges for training, prediction, storage or usage of other GCP products in connection with testing this SDK."
   ]
  },
  {
   "cell_type": "markdown",
   "metadata": {
    "id": "lld3eeJUs5yM"
   },
   "source": [
    "# Authenticate and Install Model Builder SDK\n",
    "\n",
    "This section will authenticate and setup your environment to use an experimental version of the Model Builder SDK that contains support for AutoML Forecasting. Refer to the [Model Builder SDK User Guide](https://docs.google.com/document/d/1tFhzwCbR1jU-_BLkxmEriA9Y3NDWse2YYEYyKXkRybk) for an overview and detailed documentation can be downloaded from [here](https://storage.cloud.google.com/python-aiplatform/forecasting/v0.1/docs-0.6.0.zip).\n",
    "\n",
    "After the SDK installation the kernel will be automatically restarted. You may see this error message `Your session crashed for an unknown reason` which is normal."
   ]
  },
  {
   "cell_type": "markdown",
   "metadata": {
    "id": "c0SNmTBeD2nV"
   },
   "source": [
    "### Enter your project and GCS bucket\n",
    "\n",
    "Enter your Project Id in the cell below. Then run the cell to make sure the Cloud SDK uses the right project for all the commands in this notebook."
   ]
  },
  {
   "cell_type": "code",
   "execution_count": null,
   "metadata": {
    "id": "iqSQT6Z6bekX"
   },
   "outputs": [],
   "source": [
    "from view_demo.utils import env_vars as evar\n",
    "\n",
    "PROJECT_ID = evar.PROJECT_ID\n",
    "STAGING_BUCKET = evar.STAGING_BUCKET\n",
    "DATASET_ID = evar.DATASET_ID\n",
    "TABLE_ID = f'{evar.TABLE_ID}_named'\n",
    "BQ_TABLE = f'bq://{PROJECT_ID}.{DATASET_ID}.{TABLE_ID}'\n",
    "BATCH_PREDICT_SOURCE = 'bq://pytorch-tpu-nfs.forecasting_exp.weather_test_set'\n",
    "BATCH_PREDICT_DESTINATION_PREFIX = f'{STAGING_BUCKET}/prediction'\n",
    "\n",
    "\n",
    "\n",
    "\n"
   ]
  },
  {
   "cell_type": "code",
   "execution_count": null,
   "metadata": {
    "id": "VCiC9gBWqcTF"
   },
   "outputs": [],
   "source": [
    "from google.cloud import aiplatform\n",
    "\n",
    "aiplatform.init(project=PROJECT_ID, staging_bucket=STAGING_BUCKET)\n"
   ]
  },
  {
   "cell_type": "markdown",
   "metadata": {
    "id": "35QVNhACqcTJ"
   },
   "source": [
    "# Create a Managed Time Series Dataset from CSV\n",
    "\n",
    "This section will create a dataset from a CSV file stored on your GCS bucket"
   ]
  },
  {
   "cell_type": "code",
   "execution_count": null,
   "metadata": {
    "colab": {
     "base_uri": "https://localhost:8080/",
     "height": 140
    },
    "id": "4OfCqaYRqcTJ",
    "outputId": "f2eee2cc-66b5-4f1c-bdd0-a49a99298ca4"
   },
   "outputs": [],
   "source": [
    "ds = aiplatform.datasets.TimeSeriesDataset.create(\n",
    "    display_name='cmd-exp',\n",
    "    bq_source=[BQ_TABLE])"
   ]
  },
  {
   "cell_type": "markdown",
   "metadata": {
    "id": "6-bBqipfqcTS"
   },
   "source": [
    "# Launch a Training Job to Create a Model\n",
    "\n",
    "Once we have defined your training script, we will create a model."
   ]
  },
  {
   "cell_type": "code",
   "execution_count": null,
   "metadata": {},
   "outputs": [],
   "source": [
    "#a='Date_Time, T__degC, Tpot__K, Tdew__degC, rh__percent, VPmax__mbar, VPact__mbar, VPdef__mbar, sh__g_per_kg, H2OC__mmol_per_mol, rho__gm_per_cubic_m, wv__m_per_s, max_w__vm_per_s, wd__deg'.split()\n",
    "#a"
   ]
  },
  {
   "cell_type": "code",
   "execution_count": null,
   "metadata": {
    "colab": {
     "base_uri": "https://localhost:8080/"
    },
    "id": "aA41rT_mb-rV",
    "outputId": "e19409b1-a78c-41b5-93eb-45f72d9c59d5"
   },
   "outputs": [],
   "source": [
    "job = aiplatform.AutoMLForecastingTrainingJob(\n",
    "    display_name='cmd-exp-job',\n",
    "    optimization_objective='minimize-mae',    \n",
    "    column_transformations=[\n",
    "         {'timestamp': {'column_name': 'Date_Time'}},\n",
    "         {'numeric': {'column_name': 'p__mbar'}},\n",
    "         {'numeric': {'column_name': 'T__degC'}},\n",
    "         {'numeric': {'column_name': 'Tpot__K'}},\n",
    "         {'numeric': {'column_name': 'Tdew__degC'}},\n",
    "         {'numeric': {'column_name': 'rh__percent'}},\n",
    "         {'numeric': {'column_name': 'VPmax__mbar'}},\n",
    "         {'numeric': {'column_name': 'VPact__mbar'}},\n",
    "         {'numeric': {'column_name': 'VPdef__mbar'}},\n",
    "         {'numeric': {'column_name': 'sh__g_per_kg'}},\n",
    "         {'numeric': {'column_name': 'H2OC__mmol_per_mol'}},\n",
    "         {'numeric': {'column_name': 'rho__gm_per_cubic_m'}},\n",
    "         {'numeric': {'column_name': 'wv__m_per_s'}},\n",
    "         {'numeric': {'column_name': 'max_w__vm_per_s'}},\n",
    "         {'numeric': {'column_name': 'wd__deg'}}\n",
    "    ]\n",
    ")\n",
    "\n",
    "features_col = [\n",
    "    'Date_Time',\n",
    " 'p__mbar',\n",
    " 'Tpot__K',\n",
    " 'Tdew__degC',\n",
    " 'rh__percent',\n",
    " 'VPmax__mbar',\n",
    " 'VPact__mbar',\n",
    " 'VPdef__mbar',\n",
    " 'sh__g_per_kg',\n",
    " 'H2OC__mmol_per_mol',\n",
    " 'rho__gm_per_cubic_m',\n",
    " 'wv__m_per_s',\n",
    " 'max_w__vm_per_s',\n",
    " 'wd__deg']\n",
    "\n",
    "# This will take around an hour to run\n",
    "model = job.run(\n",
    "    dataset=ds,\n",
    "    target_column='T__degC',\n",
    "    time_column='Date_Time',\n",
    "    time_series_identifier_column='series',\n",
    "    available_at_forecast_columns=features_col,\n",
    "    unavailable_at_forecast_columns=['T__degC'],\n",
    "    time_series_attribute_columns=[],\n",
    "    forecast_horizon=24.0,\n",
    "    data_granularity_unit='hour',\n",
    "    data_granularity_count=1,\n",
    "    weight_column=None,\n",
    "    budget_milli_node_hours=1000,\n",
    "    model_display_name='cmd-exp-model', \n",
    "    predefined_split_column_name=None,\n",
    "    context_window=120,\n",
    ")"
   ]
  },
  {
   "cell_type": "markdown",
   "metadata": {
    "id": "HbIhTmnnHhsp"
   },
   "source": [
    "# Fetch Model Evaluation Metrics"
   ]
  },
  {
   "cell_type": "code",
   "execution_count": null,
   "metadata": {
    "id": "muSC-mvgHno7"
   },
   "outputs": [],
   "source": [
    "import pandas as pd\n",
    "\n",
    "list_evaluation_pager = model.api_client.list_model_evaluations(parent=model.resource_name)\n",
    "for model_evaluation in list_evaluation_pager:\n",
    "  metrics_dict = {m[0]: m[1] for m in model_evaluation.metrics.items()}\n",
    "  df = pd.DataFrame(metrics_dict.items(), columns=['Metric', 'Value'])\n",
    "  print(df.to_string(index=False))"
   ]
  },
  {
   "cell_type": "markdown",
   "metadata": {
    "id": "nIw1ifPuqcTb"
   },
   "source": [
    "# Batch Prediction\n"
   ]
  },
  {
   "cell_type": "code",
   "execution_count": null,
   "metadata": {
    "id": "8I8aRjRh6GGG"
   },
   "outputs": [],
   "source": [
    "\n",
    "model.batch_predict(\n",
    "   bq_source=BATCH_PREDICT_SOURCE,\n",
    "   job_display_name='predict-weather-time-series')"
   ]
  },
  {
   "cell_type": "code",
   "execution_count": null,
   "metadata": {},
   "outputs": [],
   "source": []
  }
 ],
 "metadata": {
  "colab": {
   "collapsed_sections": [],
   "name": "Copy of AI Platform (Unified) MB SDK - AutoML Forecasting Model Training [Internal]",
   "provenance": [],
   "toc_visible": true
  },
  "environment": {
   "name": "tf2-2-3-gpu.2-3.m55",
   "type": "gcloud",
   "uri": "gcr.io/deeplearning-platform-release/tf2-2-3-gpu.2-3:m55"
  },
  "kernelspec": {
   "display_name": "Python 3",
   "language": "python",
   "name": "python3"
  },
  "language_info": {
   "codemirror_mode": {
    "name": "ipython",
    "version": 3
   },
   "file_extension": ".py",
   "mimetype": "text/x-python",
   "name": "python",
   "nbconvert_exporter": "python",
   "pygments_lexer": "ipython3",
   "version": "3.7.8"
  }
 },
 "nbformat": 4,
 "nbformat_minor": 4
}
