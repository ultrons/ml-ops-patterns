{
 "cells": [
  {
   "cell_type": "code",
   "execution_count": 22,
   "metadata": {},
   "outputs": [],
   "source": [
    "import json\n",
    "from typing import NamedTuple\n",
    "\n",
    "\n",
    "from kfp import dsl\n",
    "from kfp.v2 import compiler\n",
    "from typing import NamedTuple\n",
    "from kfp.v2 import dsl\n",
    "from kfp.v2.dsl import (\n",
    "    component,\n",
    "    InputPath,\n",
    "    OutputPath,\n",
    "    Input,\n",
    "    Output,\n",
    "    Artifact,\n",
    "    Dataset,\n",
    "    Model,\n",
    "    ClassificationMetrics,\n",
    "    Metrics,\n",
    ")\n",
    "\n",
    "from kfp.v2.google.client import AIPlatformClient\n",
    "from view_demo.utils import get_project_id\n",
    "from google_cloud_pipeline_components import aiplatform as gcc_aip"
   ]
  },
  {
   "cell_type": "code",
   "execution_count": 23,
   "metadata": {},
   "outputs": [
    {
     "data": {
      "text/plain": [
       "'pytorch-tpu-nfs'"
      ]
     },
     "execution_count": 23,
     "metadata": {},
     "output_type": "execute_result"
    }
   ],
   "source": [
    "get_project_id()"
   ]
  },
  {
   "cell_type": "code",
   "execution_count": 24,
   "metadata": {},
   "outputs": [
    {
     "name": "stdout",
     "output_type": "stream",
     "text": [
      "Client creating using default project: pytorch-tpu-nfs\n",
      "Dataset view_dataset already exists\n",
      "Loaded dataframe to /projects/pytorch-tpu-nfs/datasets/view_dataset/tables/weather_time_series\n"
     ]
    }
   ],
   "source": [
    "from view_demo.preprocess import create_dataset\n",
    "a = create_dataset(\n",
    "    csv_path='gs://bench-datasets/jena_climate_2009_2016.csv'\n",
    ")"
   ]
  },
  {
   "cell_type": "code",
   "execution_count": 27,
   "metadata": {},
   "outputs": [],
   "source": [
    "PROJECT_ID = get_project_id()\n",
    "REGION = 'us-central1'\n",
    "CONTAINER_URI = 'gcr.io/pytorch-tpu-nfs/test-custom-container'\n",
    "SRC_ROOT = '..'\n",
    "PIPELINE_ROOT = 'gs://automl-samples/pipelines/staging'"
   ]
  },
  {
   "cell_type": "code",
   "execution_count": 28,
   "metadata": {},
   "outputs": [],
   "source": [
    "@component(\n",
    "    base_image=CONTAINER_URI,\n",
    "    output_component_file=f'{SRC_ROOT}/preprocess/preprocess.yaml',\n",
    ")\n",
    "def view_preprocess(\n",
    "    project_id: str,\n",
    "    raw_dataset: str,\n",
    "    out_dataset: OutputPath(),\n",
    "):\n",
    "    from view_demo.preprocess import create_dataset\n",
    "    bq_path = create_dataset(project_id=project_id, csv_path=raw_dataset)\n",
    "    with open(out_dataset, 'w') as f:\n",
    "        f.write(bq_path)\n",
    "    "
   ]
  },
  {
   "cell_type": "code",
   "execution_count": 29,
   "metadata": {},
   "outputs": [],
   "source": [
    "@dsl.pipeline(\n",
    "    name=\"view-test-pipeline\",\n",
    "    pipeline_root=PIPELINE_ROOT,\n",
    ")\n",
    "def view_pipeline(\n",
    "    project_id: str = PROJECT_ID,\n",
    "    raw_dataset: str = 'gs://bench-datasets/jena_climate_2009_2016.csv',\n",
    "):\n",
    "    import logging\n",
    "    preprocess_task = view_preprocess(project_id=project_id, raw_dataset=raw_dataset)\n"
   ]
  },
  {
   "cell_type": "code",
   "execution_count": 30,
   "metadata": {},
   "outputs": [],
   "source": [
    "from kfp.v2 import compiler as v2compiler\n",
    "v2compiler.Compiler().compile(pipeline_func=view_pipeline,\n",
    "                              package_path='view_pipeline_spec.json')"
   ]
  },
  {
   "cell_type": "code",
   "execution_count": 31,
   "metadata": {},
   "outputs": [],
   "source": [
    "from kfp.v2.google.client import AIPlatformClient  # noqa: F811\n",
    "\n",
    "api_client = AIPlatformClient(\n",
    "    project_id=PROJECT_ID, \n",
    "    region=REGION, \n",
    "    )"
   ]
  },
  {
   "cell_type": "code",
   "execution_count": 32,
   "metadata": {},
   "outputs": [
    {
     "data": {
      "text/html": [
       "See the Pipeline job <a href=\"https://console.cloud.google.com/vertex-ai/locations/us-central1/pipelines/runs/view-test-pipeline-20210604045745?project=pytorch-tpu-nfs\" target=\"_blank\" >here</a>."
      ],
      "text/plain": [
       "<IPython.core.display.HTML object>"
      ]
     },
     "metadata": {},
     "output_type": "display_data"
    }
   ],
   "source": [
    "result = api_client.create_run_from_job_spec(\n",
    "    job_spec_path=\"view_pipeline_spec.json\",\n",
    "    pipeline_root=PIPELINE_ROOT,\n",
    "    enable_caching=False,\n",
    "    parameter_values={\n",
    "    },\n",
    ")"
   ]
  }
 ],
 "metadata": {
  "environment": {
   "name": "tf2-2-3-gpu.2-3.m55",
   "type": "gcloud",
   "uri": "gcr.io/deeplearning-platform-release/tf2-2-3-gpu.2-3:m55"
  },
  "kernelspec": {
   "display_name": "Python 3",
   "language": "python",
   "name": "python3"
  },
  "language_info": {
   "codemirror_mode": {
    "name": "ipython",
    "version": 3
   },
   "file_extension": ".py",
   "mimetype": "text/x-python",
   "name": "python",
   "nbconvert_exporter": "python",
   "pygments_lexer": "ipython3",
   "version": "3.7.8"
  }
 },
 "nbformat": 4,
 "nbformat_minor": 4
}
