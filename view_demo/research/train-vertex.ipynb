{
 "cells": [
  {
   "cell_type": "code",
   "execution_count": null,
   "metadata": {},
   "outputs": [],
   "source": [
    "!python3 -m pip install google-cloud-aiplatform --upgrade"
   ]
  },
  {
   "cell_type": "code",
   "execution_count": null,
   "metadata": {},
   "outputs": [],
   "source": [
    "from view_demo.utils import env_vars as evar\n",
    "\n",
    "experiment_prefix = evar.EXPERIMENT_PREFIX\n",
    "project_id = evar.PROJECT_ID\n",
    "staging_bucket = evar.STAGING_BUCKET\n",
    "location = evar.REGION\n",
    "training_image_uri = evar.BASE_TRAINING_IMAGE\n",
    "experiment_prefix = evar.EXPERIMENT_PREFIX\n",
    "context_window = evar.CONTEXT_WINDOW\n",
    "tf_serving_image = evar.TF_SERVING_IMAGE\n",
    "\n",
    "run_id = f'context-window-{context_window}'"
   ]
  },
  {
   "cell_type": "code",
   "execution_count": null,
   "metadata": {},
   "outputs": [],
   "source": [
    "from google.cloud import aiplatform\n",
    "from datetime import datetime\n",
    "\n",
    "# Create and experiment tag\n",
    "TIMESTAMP = datetime.now().strftime(\"%Y%m%d%H%M%S\")\n",
    "experiment_id = experiment_prefix + TIMESTAMP\n",
    "\n",
    "# Init AI Platform\n",
    "aiplatform.init(\n",
    "    project=project_id,\n",
    "    staging_bucket=staging_bucket,\n",
    "    experiment=experiment_id\n",
    ")\n",
    "\n",
    "# Define the custom training job\n",
    "job = aiplatform.CustomContainerTrainingJob(\n",
    "    display_name=\"view-training\",\n",
    "    container_uri=training_image_uri,\n",
    "    model_serving_container_image_uri=tf_serving_image,\n",
    ")\n",
    "\n",
    "\n",
    "model = job.run(\n",
    "    replica_count=1, \n",
    "    model_display_name=\"temp-prediction\",\n",
    "    args=[\n",
    "        f'--experiment-id={experiment_id}', \n",
    "        f'--staging-bucket={staging_bucket}',\n",
    "        f'--context-window={context_window}'\n",
    "    ]\n",
    ")\n",
    "metrics_df = aiplatform.get_experiment_df(experiment_id)\n",
    "#metrics_df.loc[exp_df['run_name'] == run_id]['metric.val_mae'].values[-1]\n",
    "\n",
    "print(metrics_df)\n",
    "out_model = model"
   ]
  },
  {
   "cell_type": "code",
   "execution_count": null,
   "metadata": {},
   "outputs": [],
   "source": []
  }
 ],
 "metadata": {
  "environment": {
   "name": "tf2-2-3-gpu.2-3.m55",
   "type": "gcloud",
   "uri": "gcr.io/deeplearning-platform-release/tf2-2-3-gpu.2-3:m55"
  },
  "kernelspec": {
   "display_name": "Python 3",
   "language": "python",
   "name": "python3"
  },
  "language_info": {
   "codemirror_mode": {
    "name": "ipython",
    "version": 3
   },
   "file_extension": ".py",
   "mimetype": "text/x-python",
   "name": "python",
   "nbconvert_exporter": "python",
   "pygments_lexer": "ipython3",
   "version": "3.7.8"
  }
 },
 "nbformat": 4,
 "nbformat_minor": 4
}
