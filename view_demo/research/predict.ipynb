{
 "cells": [
  {
   "cell_type": "code",
   "execution_count": null,
   "metadata": {},
   "outputs": [],
   "source": [
    "from view_demo.preprocess.window import Generator as WindowGenerator\n",
    "from view_demo.train.custom_tf_trainer import trainer"
   ]
  },
  {
   "cell_type": "code",
   "execution_count": null,
   "metadata": {},
   "outputs": [],
   "source": [
    "trainer = trainer()\n",
    "trainer.read_dataset()\n",
    "train_df, val_df, test_df = trainer.create_split()"
   ]
  },
  {
   "cell_type": "code",
   "execution_count": null,
   "metadata": {},
   "outputs": [],
   "source": [
    "test_df.columns"
   ]
  },
  {
   "cell_type": "code",
   "execution_count": null,
   "metadata": {},
   "outputs": [],
   "source": [
    "wide_window = WindowGenerator(\n",
    "        input_width=24, label_width=24, shift=1,\n",
    "        label_columns=['T__degC'],\n",
    "        train_df=train_df,\n",
    "        test_df=test_df,\n",
    "        val_df=val_df)\n"
   ]
  },
  {
   "cell_type": "code",
   "execution_count": null,
   "metadata": {},
   "outputs": [],
   "source": [
    "val = wide_window.val"
   ]
  },
  {
   "cell_type": "code",
   "execution_count": null,
   "metadata": {},
   "outputs": [],
   "source": [
    "samples = val.take(5)"
   ]
  },
  {
   "cell_type": "code",
   "execution_count": null,
   "metadata": {},
   "outputs": [],
   "source": [
    "for i in samples:\n",
    "    one_list = i[0].numpy().tolist()\n",
    "    break"
   ]
  },
  {
   "cell_type": "code",
   "execution_count": null,
   "metadata": {},
   "outputs": [],
   "source": [
    "#example = { c: one_list[0][i] for i, c in enumerate(test_df.columns)}\n",
    "#print(example)"
   ]
  },
  {
   "cell_type": "code",
   "execution_count": null,
   "metadata": {},
   "outputs": [],
   "source": [
    "sample = {\n",
    "    \"instances\" : [\n",
    "         one_list[0],\n",
    "         one_list[1]\n",
    "    ]\n",
    "}\n",
    "json_str = json. dumps(sample)"
   ]
  },
  {
   "cell_type": "code",
   "execution_count": null,
   "metadata": {},
   "outputs": [],
   "source": [
    "#print(json_str)"
   ]
  },
  {
   "cell_type": "code",
   "execution_count": null,
   "metadata": {},
   "outputs": [],
   "source": [
    "response = {\n",
    " \"predictions\": [\n",
    "   [\n",
    "     [\n",
    "       12.536293\n",
    "     ],\n",
    "     [\n",
    "       12.536293\n",
    "     ],\n",
    "     [\n",
    "       10.7300453\n",
    "     ],\n",
    "     [\n",
    "       10.7300453\n",
    "     ],\n",
    "     [\n",
    "       10.7300453\n",
    "     ],\n",
    "     [\n",
    "       10.7300453\n",
    "     ],\n",
    "     [\n",
    "       10.7300453\n",
    "     ],\n",
    "     [\n",
    "       8.35826397\n",
    "     ],\n",
    "     [\n",
    "       8.35826397\n",
    "     ],\n",
    "     [\n",
    "       8.35826397\n",
    "     ],\n",
    "     [\n",
    "       8.35826397\n",
    "     ],\n",
    "     [\n",
    "       8.35826397\n",
    "     ],\n",
    "     [\n",
    "       13.9836645\n",
    "     ],\n",
    "     [\n",
    "       13.9836645\n",
    "     ],\n",
    "     [\n",
    "       13.9836645\n",
    "     ],\n",
    "     [\n",
    "       13.9836645\n",
    "     ],\n",
    "     [\n",
    "       13.9836645\n",
    "     ],\n",
    "     [\n",
    "       18.2895813\n",
    "     ],\n",
    "     [\n",
    "       18.2895813\n",
    "     ],\n",
    "     [\n",
    "       18.2895813\n",
    "     ],\n",
    "     [\n",
    "       18.2895813\n",
    "     ],\n",
    "     [\n",
    "       18.2895813\n",
    "     ],\n",
    "     [\n",
    "       16.3527813\n",
    "     ],\n",
    "     [\n",
    "       16.3527813\n",
    "     ]\n",
    "   ],\n",
    "   [\n",
    "     [\n",
    "       14.279376\n",
    "     ],\n",
    "     [\n",
    "       14.279376\n",
    "     ],\n",
    "     [\n",
    "       14.279376\n",
    "     ],\n",
    "     [\n",
    "       14.279376\n",
    "     ],\n",
    "     [\n",
    "       14.036624\n",
    "     ],\n",
    "     [\n",
    "       14.036624\n",
    "     ],\n",
    "     [\n",
    "       14.036624\n",
    "     ],\n",
    "     [\n",
    "       14.036624\n",
    "     ],\n",
    "     [\n",
    "       14.036624\n",
    "     ],\n",
    "     [\n",
    "       13.8281813\n",
    "     ],\n",
    "     [\n",
    "       13.8281813\n",
    "     ],\n",
    "     [\n",
    "       13.8281813\n",
    "     ],\n",
    "     [\n",
    "       13.8281813\n",
    "     ],\n",
    "     [\n",
    "       13.8281813\n",
    "     ],\n",
    "     [\n",
    "       15.6901455\n",
    "     ],\n",
    "     [\n",
    "       15.6901455\n",
    "     ],\n",
    "     [\n",
    "       15.6901455\n",
    "     ],\n",
    "     [\n",
    "       15.6901455\n",
    "     ],\n",
    "     [\n",
    "       15.6901455\n",
    "     ],\n",
    "     [\n",
    "       18.6495457\n",
    "     ],\n",
    "     [\n",
    "       18.6495457\n",
    "     ],\n",
    "     [\n",
    "       18.6495457\n",
    "     ],\n",
    "     [\n",
    "       18.6495457\n",
    "     ],\n",
    "     [\n",
    "       18.6495457\n",
    "     ]\n",
    "   ]\n",
    " ],\n",
    " \"deployedModelId\": \"4315697488230088704\"\n",
    "}"
   ]
  },
  {
   "cell_type": "code",
   "execution_count": null,
   "metadata": {},
   "outputs": [],
   "source": [
    "len(response[\"predictions\"][0])"
   ]
  },
  {
   "cell_type": "code",
   "execution_count": null,
   "metadata": {},
   "outputs": [],
   "source": [
    "import os\n",
    "import datetime\n",
    "\n",
    "import IPython\n",
    "import IPython.display\n",
    "import matplotlib as mpl\n",
    "import matplotlib.pyplot as plt\n",
    "import numpy as np\n",
    "import pandas as pd\n",
    "import seaborn as sns\n",
    "import tensorflow as tf\n",
    "\n",
    "mpl.rcParams['figure.figsize'] = (8, 6)\n",
    "mpl.rcParams['axes.grid'] = False"
   ]
  },
  {
   "cell_type": "code",
   "execution_count": null,
   "metadata": {},
   "outputs": [],
   "source": [
    "np.array(one_list[0])[:,1].reshape(24)"
   ]
  },
  {
   "cell_type": "code",
   "execution_count": null,
   "metadata": {},
   "outputs": [],
   "source": [
    "\n",
    "plt.plot(np.array(response[\"predictions\"][0]).reshape(24))\n",
    "plt.plot(np.array(one_list[0])[:,1].reshape(24))\n",
    "plt.xlabel('Time [h]')\n",
    "plt.title('Temperature')"
   ]
  },
  {
   "cell_type": "code",
   "execution_count": null,
   "metadata": {},
   "outputs": [],
   "source": [
    "from google.cloud import aiplatform\n",
    "def endpoint_predict_sample(\n",
    "    project: str, location: str, instances: list, endpoint: str\n",
    "):\n",
    "    aiplatform.init(project=project, location=location)\n",
    "\n",
    "    endpoint = aiplatform.Endpoint(endpoint)\n",
    "\n",
    "    prediction = endpoint.predict(instances=instances)\n",
    "    print(prediction)\n",
    "    return prediction\n",
    "\n"
   ]
  },
  {
   "cell_type": "code",
   "execution_count": null,
   "metadata": {},
   "outputs": [],
   "source": [
    "endpoint_predict_sample(\n",
    "    project='pytorch-tpu-nfs',\n",
    "    location='us-central1',\n",
    "    instances=[\n",
    "         one_list[0],\n",
    "         one_list[1]\n",
    "    ],\n",
    "    endpoint='8019837812998144000'\n",
    ")"
   ]
  },
  {
   "cell_type": "code",
   "execution_count": null,
   "metadata": {},
   "outputs": [],
   "source": [
    "def test ( sample: int):\n",
    "    print(type(int(sample)))"
   ]
  },
  {
   "cell_type": "code",
   "execution_count": null,
   "metadata": {},
   "outputs": [],
   "source": [
    "test(24)"
   ]
  },
  {
   "cell_type": "code",
   "execution_count": null,
   "metadata": {},
   "outputs": [],
   "source": [
    "project='pytorch-tpu-nfs'\n",
    "location='us-central1'\n",
    "aiplatform.init(project=project, location=location)"
   ]
  },
  {
   "cell_type": "code",
   "execution_count": null,
   "metadata": {},
   "outputs": [],
   "source": [
    "b = [a.delete(force=True) for a in aiplatform.Endpoint.list(filter='display_name=\"temp-prediction\"')]"
   ]
  },
  {
   "cell_type": "code",
   "execution_count": null,
   "metadata": {},
   "outputs": [],
   "source": [
    "a = aiplatform.Endpoint.list(filter='display_name=\"forecast-custom\"')"
   ]
  },
  {
   "cell_type": "code",
   "execution_count": null,
   "metadata": {},
   "outputs": [],
   "source": [
    "for e in a[1:]:\n",
    "    e.delete()"
   ]
  },
  {
   "cell_type": "code",
   "execution_count": null,
   "metadata": {},
   "outputs": [],
   "source": [
    "aiplatform.Endpoint.list_models()"
   ]
  },
  {
   "cell_type": "code",
   "execution_count": null,
   "metadata": {},
   "outputs": [],
   "source": [
    "endpoints = aiplatform.Endpoint.list(filter='display_name=\"pipelines-created-endpoint\"')\n",
    "for e in endpoints: \n",
    "    try:\n",
    "        e.delete(force=True)\n",
    "    except:\n",
    "        print(\"Listing models\")\n",
    "        a = e.list_models()\n",
    "\n"
   ]
  },
  {
   "cell_type": "code",
   "execution_count": null,
   "metadata": {},
   "outputs": [],
   "source": [
    "models = aiplatform.Model.list(filter='display_name=\"temperature-forecast\"')\n",
    "for m in models:\n",
    "    m.delete()\n",
    "    "
   ]
  },
  {
   "cell_type": "code",
   "execution_count": null,
   "metadata": {},
   "outputs": [],
   "source": []
  }
 ],
 "metadata": {
  "environment": {
   "name": "tf2-2-3-gpu.2-3.m55",
   "type": "gcloud",
   "uri": "gcr.io/deeplearning-platform-release/tf2-2-3-gpu.2-3:m55"
  },
  "kernelspec": {
   "display_name": "Python 3",
   "language": "python",
   "name": "python3"
  },
  "language_info": {
   "codemirror_mode": {
    "name": "ipython",
    "version": 3
   },
   "file_extension": ".py",
   "mimetype": "text/x-python",
   "name": "python",
   "nbconvert_exporter": "python",
   "pygments_lexer": "ipython3",
   "version": "3.7.8"
  }
 },
 "nbformat": 4,
 "nbformat_minor": 4
}
