{
 "cells": [
  {
   "cell_type": "markdown",
   "id": "ded33086",
   "metadata": {},
   "source": [
    "# Set XRT TPU Config"
   ]
  },
  {
   "cell_type": "code",
   "execution_count": 1,
   "id": "2bc78790",
   "metadata": {},
   "outputs": [],
   "source": [
    "import os\n",
    "os.environ['XRT_TPU_CONFIG'] = \"localservice;0;localhost:51011\""
   ]
  },
  {
   "cell_type": "markdown",
   "id": "ed7a3cb9",
   "metadata": {},
   "source": [
    "# Recap the model class to load saved model"
   ]
  },
  {
   "cell_type": "code",
   "execution_count": 2,
   "id": "e4f8b22d",
   "metadata": {},
   "outputs": [],
   "source": [
    "import numpy as np\n",
    "import os\n",
    "import time\n",
    "import torch\n",
    "import torch.nn as nn\n",
    "import torch.nn.functional as F\n",
    "import torch.optim as optim\n",
    "import torch_xla\n",
    "import torch_xla.core.xla_model as xm\n",
    "import torch_xla.debug.metrics as met\n",
    "import torch_xla.distributed.parallel_loader as pl\n",
    "import torch_xla.distributed.xla_multiprocessing as xmp\n",
    "import torch_xla.utils.utils as xu\n",
    "import torchvision\n",
    "from torchvision import datasets, transforms\n",
    "\n",
    "class BasicBlock(nn.Module):\n",
    "  expansion = 1\n",
    "\n",
    "  def __init__(self, in_planes, planes, stride=1):\n",
    "    super(BasicBlock, self).__init__()\n",
    "    self.conv1 = nn.Conv2d(\n",
    "        in_planes, planes, kernel_size=3, stride=stride, padding=1, bias=False)\n",
    "    self.bn1 = nn.BatchNorm2d(planes)\n",
    "    self.conv2 = nn.Conv2d(\n",
    "        planes, planes, kernel_size=3, stride=1, padding=1, bias=False)\n",
    "    self.bn2 = nn.BatchNorm2d(planes)\n",
    "\n",
    "    self.shortcut = nn.Sequential()\n",
    "    if stride != 1 or in_planes != self.expansion * planes:\n",
    "      self.shortcut = nn.Sequential(\n",
    "          nn.Conv2d(\n",
    "              in_planes,\n",
    "              self.expansion * planes,\n",
    "              kernel_size=1,\n",
    "              stride=stride,\n",
    "              bias=False), nn.BatchNorm2d(self.expansion * planes))\n",
    "\n",
    "  def forward(self, x):\n",
    "    out = F.relu(self.bn1(self.conv1(x)))\n",
    "    out = self.bn2(self.conv2(out))\n",
    "    out += self.shortcut(x)\n",
    "    out = F.relu(out)\n",
    "    return out\n",
    "\n",
    "\n",
    "class ResNet(nn.Module):\n",
    "\n",
    "  def __init__(self, block, num_blocks, num_classes=10):\n",
    "    super(ResNet, self).__init__()\n",
    "    self.in_planes = 64\n",
    "\n",
    "    self.conv1 = nn.Conv2d(\n",
    "        3, 64, kernel_size=3, stride=1, padding=1, bias=False)\n",
    "    self.bn1 = nn.BatchNorm2d(64)\n",
    "    self.layer1 = self._make_layer(block, 64, num_blocks[0], stride=1)\n",
    "    self.layer2 = self._make_layer(block, 128, num_blocks[1], stride=2)\n",
    "    self.layer3 = self._make_layer(block, 256, num_blocks[2], stride=2)\n",
    "    self.layer4 = self._make_layer(block, 512, num_blocks[3], stride=2)\n",
    "    self.linear = nn.Linear(512 * block.expansion, num_classes)\n",
    "\n",
    "  def _make_layer(self, block, planes, num_blocks, stride):\n",
    "    strides = [stride] + [1] * (num_blocks - 1)\n",
    "    layers = []\n",
    "    for stride in strides:\n",
    "      layers.append(block(self.in_planes, planes, stride))\n",
    "      self.in_planes = planes * block.expansion\n",
    "    return nn.Sequential(*layers)\n",
    "\n",
    "  def forward(self, x):\n",
    "    out = F.relu(self.bn1(self.conv1(x)))\n",
    "    out = self.layer1(out)\n",
    "    out = self.layer2(out)\n",
    "    out = self.layer3(out)\n",
    "    out = self.layer4(out)\n",
    "    out = F.avg_pool2d(out, 4)\n",
    "    out = torch.flatten(out, 1)\n",
    "    out = self.linear(out)\n",
    "    return F.log_softmax(out, dim=1)\n",
    "\n",
    "\n",
    "def ResNet18():\n",
    "  return ResNet(BasicBlock, [2, 2, 2, 2])"
   ]
  },
  {
   "cell_type": "markdown",
   "id": "4a122798",
   "metadata": {},
   "source": [
    "# Create Model Handler\n",
    "\n",
    "The following model handler is derrived from the torchserve's vision handler class.\n",
    "We add the init inference and post process method according to our Resnet-18 model trainined on cifar-10 dataset."
   ]
  },
  {
   "cell_type": "code",
   "execution_count": 107,
   "id": "7645da18",
   "metadata": {},
   "outputs": [],
   "source": [
    "import os\n",
    "import json\n",
    "\n",
    "import torch\n",
    "from ts.torch_handler.vision_handler import VisionHandler\n",
    "\n",
    "import copy\n",
    "from pathlib import Path\n",
    "import warnings\n",
    "\n",
    "import numpy as np\n",
    "import pandas as pd\n",
    "import pytorch_lightning as pl\n",
    "import torch\n",
    "\n",
    "\n",
    "import logging\n",
    "logger = logging.getLogger(__name__)\n",
    "import torch_xla.core.xla_model as xm\n",
    "\n",
    "class xla_image_classifier(VisionHandler):\n",
    "    norm = transforms.Normalize(\n",
    "        mean=(0.4914, 0.4822, 0.4465), std=(0.2023, 0.1994, 0.2010))\n",
    "\n",
    "    image_processing = transforms.Compose([\n",
    "        transforms.ToTensor(),\n",
    "        norm,\n",
    "    ])\n",
    "\n",
    "    def __init__(self):\n",
    "        super(xla_image_classifier, self).__init__()\n",
    "        self.initialized = False\n",
    "        \n",
    "    def initialize(self, ctx):\n",
    "        \"\"\" Loads the model.pt file and initialized the model object.\n",
    "        Instantiates Tokenizer for preprocessor to use\n",
    "        Loads labels to name mapping file for post-processing inference response\n",
    "        \"\"\"\n",
    "        self.manifest = ctx.manifest\n",
    "\n",
    "        properties = ctx.system_properties\n",
    "        model_dir = properties.get(\"model_dir\")\n",
    "        self.device = xm.xla_device()\n",
    "\n",
    "        # Read model serialize/pt file\n",
    "        serialized_file = self.manifest[\"model\"][\"serializedFile\"]\n",
    "        model_pt_path = os.path.join(model_dir, serialized_file)\n",
    "        if not os.path.isfile(model_pt_path):\n",
    "            raise RuntimeError(\"Missing the model.pt or pytorch_model.bin file\")\n",
    "        \n",
    "        # Load model\n",
    "        self.model = torch.load(model_pt_path)\n",
    "        self.model.to(self.device)\n",
    "        self.model.eval()\n",
    "        logger.debug('model from path {0} loaded successfully'.format(model_dir))\n",
    "        \n",
    "\n",
    "        self.initialized = True\n",
    "        \n",
    "     \n",
    "\n",
    "    def inference(self, inputs):\n",
    "        results = []\n",
    "        return  self.model(inputs).argmax(dim=-1)\n",
    "    \n",
    "    def postprocess(self, inputs):\n",
    "        CIFAR10_LABELS = ['airplane', 'automobile', 'bird', 'cat', 'deer',\n",
    "                 'dog', 'frog', 'horse', 'ship', 'truck']\n",
    "        return list(map(lambda x:CIFAR10_LABELS[x], inputs.tolist() ))"
   ]
  },
  {
   "cell_type": "markdown",
   "id": "9408cd92",
   "metadata": {},
   "source": [
    "# Test the Handler\n",
    "Here we will use the MockContext object to invoke the the handler as it would be invoked within torchserve"
   ]
  },
  {
   "cell_type": "code",
   "execution_count": 112,
   "id": "1a52daf6",
   "metadata": {},
   "outputs": [],
   "source": [
    "# Test Handler\n",
    "from ts.torch_handler.unit_tests.test_utils.mock_context import MockContext\n",
    "def model_setup():\n",
    "    context = MockContext(model_name=\"img_cls\", model_dir='/home/sivaibhav/img_cls')\n",
    "    with open('/home/sivaibhav/kitten_small.jpg', 'rb') as fin:\n",
    "        image_bytes = fin.read()\n",
    "    return (context, image_bytes)\n",
    "\n",
    "def test_initialize(model_setup):\n",
    "    model_context, _ = model_setup\n",
    "    handler = xla_image_classifier()\n",
    "    handler.initialize(model_context)\n",
    "    return handler\n",
    "\n",
    "def test_handle(model_setup):\n",
    "    context, data = model_setup\n",
    "    handler = test_initialize(model_setup)\n",
    "    test_data = [{'data': data}] * 2\n",
    "    results = handler.handle(test_data, context)\n",
    "    return results"
   ]
  },
  {
   "cell_type": "code",
   "execution_count": 113,
   "id": "9455dc7d",
   "metadata": {},
   "outputs": [
    {
     "data": {
      "text/plain": [
       "<__main__.xla_image_classifier at 0x7f64ffa756a0>"
      ]
     },
     "execution_count": 113,
     "metadata": {},
     "output_type": "execute_result"
    }
   ],
   "source": [
    "_model_setup = model_setup()\n",
    "test_initialize(_model_setup)"
   ]
  },
  {
   "cell_type": "code",
   "execution_count": 111,
   "id": "e9902346",
   "metadata": {},
   "outputs": [
    {
     "data": {
      "text/plain": [
       "['cat', 'cat']"
      ]
     },
     "execution_count": 111,
     "metadata": {},
     "output_type": "execute_result"
    }
   ],
   "source": [
    "test_handle(_model_setup)"
   ]
  }
 ],
 "metadata": {
  "kernelspec": {
   "display_name": "Python 3 (ipykernel)",
   "language": "python",
   "name": "python3"
  },
  "language_info": {
   "codemirror_mode": {
    "name": "ipython",
    "version": 3
   },
   "file_extension": ".py",
   "mimetype": "text/x-python",
   "name": "python",
   "nbconvert_exporter": "python",
   "pygments_lexer": "ipython3",
   "version": "3.8.10"
  }
 },
 "nbformat": 4,
 "nbformat_minor": 5
}
