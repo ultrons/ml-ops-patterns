{
 "cells": [
  {
   "cell_type": "code",
   "execution_count": null,
   "metadata": {
    "id": "ur8xi4C7S06n"
   },
   "outputs": [],
   "source": [
    "# Copyright 2020 Google LLC\n",
    "#\n",
    "# Licensed under the Apache License, Version 2.0 (the \"License\");\n",
    "# you may not use this file except in compliance with the License.\n",
    "# You may obtain a copy of the License at\n",
    "#\n",
    "#     https://www.apache.org/licenses/LICENSE-2.0\n",
    "#\n",
    "# Unless required by applicable law or agreed to in writing, software\n",
    "# distributed under the License is distributed on an \"AS IS\" BASIS,\n",
    "# WITHOUT WARRANTIES OR CONDITIONS OF ANY KIND, either express or implied.\n",
    "# See the License for the specific language governing permissions and\n",
    "# limitations under the License."
   ]
  },
  {
   "cell_type": "markdown",
   "metadata": {
    "id": "eHLV0D7Y5jtU"
   },
   "source": [
    "# AI Platform (Unified) Model Builder SDK: AutoML Forecasting Model Training Example\n",
    "\n",
    "To use this Colaboratory notebook, you copy the notebook to your own Google Drive and open it with Colaboratory (or Colab). You can run each step, or cell, and see its results. To run a cell, use Shift+Enter. Colab automatically displays the return value of the last line in each cell. For more information about running notebooks in Colab, see the [Colab welcome page](https://colab.research.google.com/notebooks/welcome.ipynb).\n",
    "\n",
    "This notebook demonstrates how to create an AutoML model based on a time series dataset. It will require you provide a bucket where the dataset will be stored.\n",
    "\n",
    "Note: you may incur charges for training, prediction, storage or usage of other GCP products in connection with testing this SDK."
   ]
  },
  {
   "cell_type": "markdown",
   "metadata": {
    "id": "lld3eeJUs5yM"
   },
   "source": [
    "# Authenticate and Install Model Builder SDK\n",
    "\n",
    "This section will authenticate and setup your environment to use an experimental version of the Model Builder SDK that contains support for AutoML Forecasting. Refer to the [Model Builder SDK User Guide](https://docs.google.com/document/d/1tFhzwCbR1jU-_BLkxmEriA9Y3NDWse2YYEYyKXkRybk) for an overview and detailed documentation can be downloaded from [here](https://storage.cloud.google.com/python-aiplatform/forecasting/v0.1/docs-0.6.0.zip).\n",
    "\n",
    "After the SDK installation the kernel will be automatically restarted. You may see this error message `Your session crashed for an unknown reason` which is normal."
   ]
  },
  {
   "cell_type": "code",
   "execution_count": 1,
   "metadata": {
    "id": "wrFANyrMP7WB"
   },
   "outputs": [],
   "source": [
    "%%capture\n",
    "%env SDK_VERSION=0.6.0"
   ]
  },
  {
   "cell_type": "code",
   "execution_count": 2,
   "metadata": {
    "id": "ntMV5lzK-7gS"
   },
   "outputs": [],
   "source": [
    "import sys\n",
    "if 'google.colab' in sys.modules:\n",
    "  from google.colab import auth\n",
    "  auth.authenticate_user()"
   ]
  },
  {
   "cell_type": "code",
   "execution_count": 3,
   "metadata": {
    "id": "sBfZtR4X1Dr_"
   },
   "outputs": [],
   "source": [
    "%%capture\n",
    "# hides output\n",
    "!gsutil cp gs://python-aiplatform/forecasting/v0.1/google-cloud-aiplatform-${SDK_VERSION}.tar.gz .\n",
    "!pip3 install google-cloud-aiplatform-${SDK_VERSION}.tar.gz\n",
    "import IPython\n",
    "app = IPython.Application.instance()\n",
    "app.kernel.do_shutdown(True)"
   ]
  },
  {
   "cell_type": "markdown",
   "metadata": {
    "id": "c0SNmTBeD2nV"
   },
   "source": [
    "### Enter your project and GCS bucket\n",
    "\n",
    "Enter your Project Id in the cell below. Then run the cell to make sure the Cloud SDK uses the right project for all the commands in this notebook."
   ]
  },
  {
   "cell_type": "code",
   "execution_count": 1,
   "metadata": {
    "id": "iqSQT6Z6bekX"
   },
   "outputs": [],
   "source": [
    "MY_PROJECT = 'pytorch-tpu-nfs'"
   ]
  },
  {
   "cell_type": "code",
   "execution_count": 2,
   "metadata": {
    "id": "gpCCgxdOsCwg"
   },
   "outputs": [],
   "source": [
    "MY_STAGING_BUCKET = 'automl-samples'  # bucket should be in same region as AI Platform (Unified)"
   ]
  },
  {
   "cell_type": "markdown",
   "metadata": {
    "id": "-6AQjKlnx0mf"
   },
   "source": [
    "The dataset we are using is the Rossman forecasting dataset."
   ]
  },
  {
   "cell_type": "code",
   "execution_count": 3,
   "metadata": {
    "id": "V_T10yTTqcS_"
   },
   "outputs": [],
   "source": [
    "gcs_csv_path = 'gs://automl-samples/forcasting-datasets/rossman_train.csv'"
   ]
  },
  {
   "cell_type": "markdown",
   "metadata": {
    "id": "rk43VP_IqcTE"
   },
   "source": [
    "# Initialize Model Builder SDK\n",
    "\n",
    "Authenticate and initialize the *client* for AI Platform (Unified)"
   ]
  },
  {
   "cell_type": "code",
   "execution_count": 4,
   "metadata": {
    "id": "nT-bZ1autijD"
   },
   "outputs": [],
   "source": [
    "import sys\n",
    "if 'google.colab' in sys.modules:\n",
    "  from google.colab import auth\n",
    "  auth.authenticate_user()"
   ]
  },
  {
   "cell_type": "code",
   "execution_count": 5,
   "metadata": {
    "id": "VCiC9gBWqcTF"
   },
   "outputs": [],
   "source": [
    "from google.cloud import aiplatform\n",
    "\n",
    "aiplatform.init(project=MY_PROJECT, staging_bucket=MY_STAGING_BUCKET)"
   ]
  },
  {
   "cell_type": "markdown",
   "metadata": {
    "id": "35QVNhACqcTJ"
   },
   "source": [
    "# Create a Managed Time Series Dataset from CSV\n",
    "\n",
    "This section will create a dataset from a CSV file stored on your GCS bucket"
   ]
  },
  {
   "cell_type": "code",
   "execution_count": 6,
   "metadata": {
    "colab": {
     "base_uri": "https://localhost:8080/",
     "height": 140
    },
    "id": "4OfCqaYRqcTJ",
    "outputId": "f2eee2cc-66b5-4f1c-bdd0-a49a99298ca4"
   },
   "outputs": [
    {
     "name": "stdout",
     "output_type": "stream",
     "text": [
      "INFO:google.cloud.aiplatform.datasets.dataset:Creating TimeSeriesDataset\n",
      "INFO:google.cloud.aiplatform.datasets.dataset:Create TimeSeriesDataset backing LRO: projects/64701051322/locations/us-central1/datasets/3953676687715074048/operations/7793223518711185408\n",
      "INFO:google.cloud.aiplatform.datasets.dataset:TimeSeriesDataset created. Resource name: projects/64701051322/locations/us-central1/datasets/3953676687715074048\n",
      "INFO:google.cloud.aiplatform.datasets.dataset:To use this TimeSeriesDataset in another session:\n",
      "INFO:google.cloud.aiplatform.datasets.dataset:ds = aiplatform.TimeSeriesDataset('projects/64701051322/locations/us-central1/datasets/3953676687715074048')\n"
     ]
    },
    {
     "data": {
      "text/plain": [
       "'projects/64701051322/locations/us-central1/datasets/3953676687715074048'"
      ]
     },
     "execution_count": 6,
     "metadata": {},
     "output_type": "execute_result"
    }
   ],
   "source": [
    "ds = aiplatform.datasets.TimeSeriesDataset.create(\n",
    "    display_name='rossman',\n",
    "    gcs_source=[gcs_csv_path])\n",
    "\n",
    "ds.resource_name"
   ]
  },
  {
   "cell_type": "markdown",
   "metadata": {
    "id": "6-bBqipfqcTS"
   },
   "source": [
    "# Launch a Training Job to Create a Model\n",
    "\n",
    "Once we have defined your training script, we will create a model."
   ]
  },
  {
   "cell_type": "code",
   "execution_count": 7,
   "metadata": {
    "colab": {
     "base_uri": "https://localhost:8080/"
    },
    "id": "8wJJ8AtTNaWS",
    "outputId": "948541f6-3d8c-4e64-e5d7-eb21682ba43e"
   },
   "outputs": [
    {
     "name": "stdout",
     "output_type": "stream",
     "text": [
      "gs://automl-samples/forcasting-datasets/rossman_predict.csv\n",
      "gs://automl-samples/forcasting-datasets/rossman_train.csv\n"
     ]
    }
   ],
   "source": [
    "!gsutil ls gs://automl-samples/forcasting-datasets/"
   ]
  },
  {
   "cell_type": "code",
   "execution_count": 8,
   "metadata": {
    "colab": {
     "base_uri": "https://localhost:8080/"
    },
    "id": "aA41rT_mb-rV",
    "outputId": "e19409b1-a78c-41b5-93eb-45f72d9c59d5"
   },
   "outputs": [
    {
     "name": "stdout",
     "output_type": "stream",
     "text": [
      "INFO:google.cloud.aiplatform.training_jobs:View Training:\n",
      "https://console.cloud.google.com/ai/platform/locations/us-central1/training/4038594169751470080?project=64701051322\n",
      "INFO:google.cloud.aiplatform.training_jobs:AutoMLForecastingTrainingJob projects/64701051322/locations/us-central1/trainingPipelines/4038594169751470080 current state:\n",
      "PipelineState.PIPELINE_STATE_RUNNING\n",
      "INFO:google.cloud.aiplatform.training_jobs:AutoMLForecastingTrainingJob  run. Resource name: projects/64701051322/locations/us-central1/trainingPipelines/4038594169751470080\n",
      "INFO:google.cloud.aiplatform.training_jobs:Model available at projects/64701051322/locations/us-central1/models/6392842078866374656\n"
     ]
    }
   ],
   "source": [
    "job = aiplatform.AutoMLForecastingTrainingJob(\n",
    "    display_name='train-rossman-automl_1',\n",
    "    optimization_objective='minimize-mae',    \n",
    "    column_transformations=[\n",
    "        {\"timestamp\": {\"column_name\": \"Date\"}},\n",
    "        {\"categorical\": {\"column_name\": \"DayOfWeek\"}},\n",
    "        {\"categorical\": {\"column_name\": \"Open\"}},\n",
    "        {\"categorical\": {\"column_name\": \"Promo\"}},\n",
    "        {\"numeric\": {\"column_name\": \"Sales\"}},\n",
    "        {\"categorical\": {\"column_name\": \"SchoolHoliday\"}},\n",
    "        {\"categorical\": {\"column_name\": \"StateHoliday\"}},\n",
    "    ]\n",
    ")\n",
    "\n",
    "# This will take around an hour to run\n",
    "model = job.run(\n",
    "    dataset=ds,\n",
    "    target_column='Sales',\n",
    "    time_column='Date',\n",
    "    time_series_identifier_column='Store',\n",
    "    available_at_forecast_columns=['Date', 'StateHoliday', 'SchoolHoliday', 'DayOfWeek', 'Open', 'Promo'],\n",
    "    unavailable_at_forecast_columns=['Sales'],\n",
    "    time_series_attribute_columns=[],\n",
    "    forecast_horizon=10.0,\n",
    "    data_granularity_unit='day',\n",
    "    data_granularity_count=1,\n",
    "    weight_column=None,\n",
    "    budget_milli_node_hours=1000,\n",
    "    model_display_name='rossman-forecast-model', \n",
    "    predefined_split_column_name=None\n",
    ")"
   ]
  },
  {
   "cell_type": "markdown",
   "metadata": {
    "id": "HbIhTmnnHhsp"
   },
   "source": [
    "# Fetch Model Evaluation Metrics"
   ]
  },
  {
   "cell_type": "code",
   "execution_count": 9,
   "metadata": {
    "id": "muSC-mvgHno7"
   },
   "outputs": [
    {
     "name": "stdout",
     "output_type": "stream",
     "text": [
      "                     Metric      Value\n",
      "    rootMeanSquaredLogError        NaN\n",
      "                   rSquared   0.887067\n",
      "meanAbsolutePercentageError        inf\n",
      "       rootMeanSquaredError 709.745540\n",
      "          meanAbsoluteError 489.048860\n"
     ]
    }
   ],
   "source": [
    "import pandas as pd\n",
    "\n",
    "list_evaluation_pager = model.api_client.list_model_evaluations(parent=model.resource_name)\n",
    "for model_evaluation in list_evaluation_pager:\n",
    "  metrics_dict = {m[0]: m[1] for m in model_evaluation.metrics.items()}\n",
    "  df = pd.DataFrame(metrics_dict.items(), columns=['Metric', 'Value'])\n",
    "  print(df.to_string(index=False))"
   ]
  },
  {
   "cell_type": "markdown",
   "metadata": {
    "id": "nIw1ifPuqcTb"
   },
   "source": [
    "# Batch Prediction\n"
   ]
  },
  {
   "cell_type": "code",
   "execution_count": 13,
   "metadata": {},
   "outputs": [],
   "source": [
    "MY_STAGING_BUCKET='gs://automl-samples'"
   ]
  },
  {
   "cell_type": "code",
   "execution_count": 14,
   "metadata": {
    "id": "8I8aRjRh6GGG"
   },
   "outputs": [
    {
     "name": "stdout",
     "output_type": "stream",
     "text": [
      "INFO:google.cloud.aiplatform.jobs:Creating BatchPredictionJob\n",
      "INFO:google.cloud.aiplatform.jobs:BatchPredictionJob created. Resource name: projects/64701051322/locations/us-central1/batchPredictionJobs/7695517067176312832\n",
      "INFO:google.cloud.aiplatform.jobs:To use this BatchPredictionJob in another session:\n",
      "INFO:google.cloud.aiplatform.jobs:bpj = aiplatform.BatchPredictionJob('projects/64701051322/locations/us-central1/batchPredictionJobs/7695517067176312832')\n",
      "INFO:google.cloud.aiplatform.jobs:View Batch Prediction Job:\n",
      "https://console.cloud.google.com/ai/platform/locations/us-central1/batch-predictions/7695517067176312832?project=64701051322\n",
      "INFO:google.cloud.aiplatform.jobs:BatchPredictionJob projects/64701051322/locations/us-central1/batchPredictionJobs/7695517067176312832 current state:\n",
      "JobState.JOB_STATE_PENDING\n",
      "INFO:google.cloud.aiplatform.jobs:BatchPredictionJob  run. Resource name: projects/64701051322/locations/us-central1/batchPredictionJobs/7695517067176312832\n"
     ]
    },
    {
     "data": {
      "text/plain": [
       "<google.cloud.aiplatform.jobs.BatchPredictionJob object at 0x7f404c230190> \n",
       "resource name: projects/64701051322/locations/us-central1/batchPredictionJobs/7695517067176312832"
      ]
     },
     "execution_count": 14,
     "metadata": {},
     "output_type": "execute_result"
    }
   ],
   "source": [
    "BATCH_PREDICT_SOURCE = 'gs://automl-samples/forcasting-datasets/rossman_predict.csv'\n",
    "BATCH_PREDICT_DESTINATION_PREFIX = f'{MY_STAGING_BUCKET}/prediction'\n",
    "model.batch_predict(\n",
    "   gcs_source=BATCH_PREDICT_SOURCE,\n",
    "   instances_format='csv',\n",
    "   gcs_destination_prefix=BATCH_PREDICT_DESTINATION_PREFIX,\n",
    "   predictions_format='csv',\n",
    "   job_display_name='predict-rossman-automl_1')"
   ]
  },
  {
   "cell_type": "code",
   "execution_count": null,
   "metadata": {},
   "outputs": [],
   "source": []
  }
 ],
 "metadata": {
  "colab": {
   "collapsed_sections": [],
   "name": "Copy of AI Platform (Unified) MB SDK - AutoML Forecasting Model Training [Internal]",
   "provenance": [],
   "toc_visible": true
  },
  "environment": {
   "name": "tf2-2-3-gpu.2-3.m55",
   "type": "gcloud",
   "uri": "gcr.io/deeplearning-platform-release/tf2-2-3-gpu.2-3:m55"
  },
  "kernelspec": {
   "display_name": "Python 3",
   "language": "python",
   "name": "python3"
  },
  "language_info": {
   "codemirror_mode": {
    "name": "ipython",
    "version": 3
   },
   "file_extension": ".py",
   "mimetype": "text/x-python",
   "name": "python",
   "nbconvert_exporter": "python",
   "pygments_lexer": "ipython3",
   "version": "3.7.8"
  }
 },
 "nbformat": 4,
 "nbformat_minor": 4
}
