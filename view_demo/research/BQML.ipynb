{
 "cells": [
  {
   "cell_type": "code",
   "execution_count": null,
   "metadata": {},
   "outputs": [],
   "source": [
    "from view_demo.utils import env_vars as evar\n",
    "\n",
    "experiment_prefix = evar.EXPERIMENT_PREFIX\n",
    "project_id = evar.PROJECT_ID\n",
    "dataset_id = evar.DATASET_ID\n",
    "table_id = evar.TABLE_ID\n",
    "staging_bucket = evar.STAGING_BUCKET\n",
    "location = evar.REGION\n",
    "experiment_prefix = evar.EXPERIMENT_PREFIX\n",
    "context_window = evar.CONTEXT_WINDOW\n",
    "tf_serving_image = evar.TF_SERVING_IMAGE"
   ]
  },
  {
   "cell_type": "code",
   "execution_count": null,
   "metadata": {},
   "outputs": [],
   "source": [
    "#a = [c for c in df.columns]\n",
    "#', '.join(a)\n",
    "#print(a)"
   ]
  },
  {
   "cell_type": "code",
   "execution_count": null,
   "metadata": {},
   "outputs": [],
   "source": [
    "import matplotlib.pyplot as plt\n",
    "import pandas as pd\n",
    "\n",
    "def plot_historical_and_forecast(input_timeseries, timestamp_col_name, data_col_name, forecast_output=None, actual=None):\n",
    "  input_timeseries = input_timeseries.sort_values(timestamp_col_name)    \n",
    "\n",
    "  plt.figure(figsize=(20,6))\n",
    "  plt.plot(input_timeseries[timestamp_col_name], input_timeseries[data_col_name], label = 'Historical')\n",
    "  plt.xlabel(timestamp_col_name)\n",
    "  plt.ylabel(data_col_name)\n",
    "\n",
    "  if forecast_output is not None:\n",
    "    forecast_output = forecast_output.sort_values('forecast_timestamp')\n",
    "    forecast_output['forecast_timestamp'] = pd.to_datetime(forecast_output['forecast_timestamp'])\n",
    "    x_data = forecast_output['forecast_timestamp']\n",
    "    y_data = forecast_output['forecast_value']\n",
    "    confidence_level = forecast_output['confidence_level'].iloc[0] * 100\n",
    "    low_CI = forecast_output['confidence_interval_lower_bound']\n",
    "    upper_CI = forecast_output['confidence_interval_upper_bound']\n",
    "    # Plot the data, set the linewidth, color and transparency of the\n",
    "    # line, provide a label for the legend\n",
    "    plt.plot(x_data, y_data, alpha = 1, label = 'Forecast', linestyle='--')\n",
    "    # Shade the confidence interval\n",
    "    plt.fill_between(x_data, low_CI, upper_CI, color = '#539caf', alpha = 0.4, label = str(confidence_level) + '% confidence interval')\n",
    "\n",
    "  # actual\n",
    "  if actual is not None:\n",
    "    actual = actual.sort_values(timestamp_col_name)\n",
    "    plt.plot(actual[timestamp_col_name], actual[data_col_name], label = 'Actual', linestyle='--')   \n",
    "\n",
    "  # Display legend\n",
    "  plt.legend(loc = 'upper center', prop={'size': 16})"
   ]
  },
  {
   "cell_type": "code",
   "execution_count": null,
   "metadata": {},
   "outputs": [],
   "source": [
    "%%bigquery df\n",
    "SELECT DISTINCT\n",
    "   CAST(PARSE_DATETIME('%d.%m.%Y  %H:%M:%S', Date_time) as TIMESTAMP) as Date_Time,\n",
    "   T__degC as Temperature\n",
    "FROM\n",
    "  `pytorch-tpu-nfs.view_dataset.weather_time_series`\n",
    "WHERE EXTRACT(date from PARSE_DATETIME('%d.%m.%Y  %H:%M:%S', Date_time)) BETWEEN '2016-01-15' AND '2016-02-15'\n",
    "ORDER BY Date_Time ASC "
   ]
  },
  {
   "cell_type": "code",
   "execution_count": null,
   "metadata": {},
   "outputs": [],
   "source": [
    "plot_historical_and_forecast(df, 'Date_Time', 'Temperature');"
   ]
  },
  {
   "cell_type": "code",
   "execution_count": null,
   "metadata": {},
   "outputs": [],
   "source": [
    "%%bigquery\n",
    "CREATE OR REPLACE MODEL `pytorch-tpu-nfs.view_dataset.temperature-model`\n",
    "OPTIONS(model_type='ARIMA_PLUS',\n",
    "        time_series_data_col='T__degC',\n",
    "        time_series_timestamp_col='Date_Time'\n",
    "        )\n",
    "AS\n",
    "SELECT DISTINCT \n",
    "        CAST(PARSE_DATETIME('%d.%m.%Y  %H:%M:%S', Date_time) as TIMESTAMP) as Date_Time,\n",
    "        T__degC \n",
    "FROM `pytorch-tpu-nfs.view_dataset.weather_time_series`\n",
    "WHERE EXTRACT(date from PARSE_DATETIME('%d.%m.%Y  %H:%M:%S', Date_time)) BETWEEN '2012-01-15' AND '2016-02-15'\n",
    "ORDER BY Date_Time ASC "
   ]
  },
  {
   "cell_type": "code",
   "execution_count": null,
   "metadata": {},
   "outputs": [],
   "source": [
    "%%bigquery fcst\n",
    "SELECT * FROM ML.FORECAST(MODEL `pytorch-tpu-nfs.view_dataset.temperature-model`, \n",
    "                  STRUCT(200 AS horizon, 0.9 AS confidence_level))"
   ]
  },
  {
   "cell_type": "code",
   "execution_count": null,
   "metadata": {},
   "outputs": [],
   "source": [
    "plot_historical_and_forecast(df, 'Date_Time', 'Temperature', fcst);"
   ]
  },
  {
   "cell_type": "code",
   "execution_count": null,
   "metadata": {},
   "outputs": [],
   "source": [
    "%%bigquery actual\n",
    "SELECT\n",
    "   CAST(PARSE_DATETIME('%d.%m.%Y  %H:%M:%S', Date_time) as TIMESTAMP) as Date_Time,\n",
    "   T__degC as Temperature\n",
    "FROM\n",
    "  `pytorch-tpu-nfs.view_dataset.weather_time_series`\n",
    "WHERE EXTRACT(date from PARSE_DATETIME('%d.%m.%Y  %H:%M:%S', Date_time)) BETWEEN '2016-02-15' AND '2016-02-28'"
   ]
  },
  {
   "cell_type": "code",
   "execution_count": null,
   "metadata": {},
   "outputs": [],
   "source": [
    "plot_historical_and_forecast(df, 'Date_Time', 'Temperature', fcst, actual);"
   ]
  },
  {
   "cell_type": "code",
   "execution_count": null,
   "metadata": {},
   "outputs": [],
   "source": []
  },
  {
   "cell_type": "code",
   "execution_count": null,
   "metadata": {},
   "outputs": [],
   "source": []
  }
 ],
 "metadata": {
  "environment": {
   "name": "tf2-2-3-gpu.2-3.m55",
   "type": "gcloud",
   "uri": "gcr.io/deeplearning-platform-release/tf2-2-3-gpu.2-3:m55"
  },
  "kernelspec": {
   "display_name": "Python 3",
   "language": "python",
   "name": "python3"
  },
  "language_info": {
   "codemirror_mode": {
    "name": "ipython",
    "version": 3
   },
   "file_extension": ".py",
   "mimetype": "text/x-python",
   "name": "python",
   "nbconvert_exporter": "python",
   "pygments_lexer": "ipython3",
   "version": "3.7.8"
  }
 },
 "nbformat": 4,
 "nbformat_minor": 4
}
