{
 "cells": [
  {
   "cell_type": "code",
   "execution_count": 1,
   "id": "603b50f3-af52-4523-a0ec-bfd829f0d49b",
   "metadata": {},
   "outputs": [],
   "source": [
    "import base64\n",
    "import json\n",
    "import os\n",
    "import random\n",
    "import sys\n",
    "\n",
    "import google.auth\n",
    "from google.cloud import aiplatform\n",
    "from google.cloud.aiplatform import gapic as aip\n",
    "from google.cloud.aiplatform import hyperparameter_tuning as hpt\n",
    "from google.protobuf.json_format import MessageToDict"
   ]
  },
  {
   "cell_type": "code",
   "execution_count": 7,
   "id": "d03cdd7f-f721-4386-9a99-482f0f4e5ddf",
   "metadata": {},
   "outputs": [],
   "source": [
    "PROJECT_ID='pytorch-tpu-nfs'\n",
    "BUCKET_NAME='automl-samples'\n",
    "CUSTOM_PREDICTOR_IMAGE_URI='gcr.io/pytorch-tpu-nfs/pt_tmp_forecast'"
   ]
  },
  {
   "cell_type": "code",
   "execution_count": 3,
   "id": "113064e2-f466-4d47-9574-8b4382615e53",
   "metadata": {},
   "outputs": [],
   "source": [
    "aiplatform.init(project=PROJECT_ID, staging_bucket=BUCKET_NAME)"
   ]
  },
  {
   "cell_type": "code",
   "execution_count": 16,
   "id": "846fd069-038b-4e9d-a453-b0bb90044784",
   "metadata": {},
   "outputs": [],
   "source": [
    "VERSION = 1\n",
    "model_display_name = f\"pt_tmp_forecast\"\n",
    "model_description = \"PyTorch Forecast TFT Model\"\n",
    "\n",
    "MODEL_NAME = \"pt_tmp_forecast\"\n",
    "health_route = \"/ping\"\n",
    "predict_route = f\"/predictions/{MODEL_NAME}\"\n",
    "serving_container_ports = [7080]"
   ]
  },
  {
   "cell_type": "code",
   "execution_count": 17,
   "id": "d5baa85c-0cd7-454b-9ad0-4cd337347ba7",
   "metadata": {},
   "outputs": [
    {
     "name": "stdout",
     "output_type": "stream",
     "text": [
      "INFO:google.cloud.aiplatform.models:Creating Model\n",
      "INFO:google.cloud.aiplatform.models:Create Model backing LRO: projects/64701051322/locations/us-central1/models/8965967568699392000/operations/4817968762168803328\n",
      "INFO:google.cloud.aiplatform.models:Model created. Resource name: projects/64701051322/locations/us-central1/models/8965967568699392000\n",
      "INFO:google.cloud.aiplatform.models:To use this Model in another session:\n",
      "INFO:google.cloud.aiplatform.models:model = aiplatform.Model('projects/64701051322/locations/us-central1/models/8965967568699392000')\n"
     ]
    }
   ],
   "source": [
    "model = aiplatform.Model.upload(\n",
    "    display_name=model_display_name,\n",
    "    description=model_description,\n",
    "    serving_container_image_uri=CUSTOM_PREDICTOR_IMAGE_URI,\n",
    "    serving_container_predict_route=predict_route,\n",
    "    serving_container_health_route=health_route,\n",
    "    serving_container_ports=serving_container_ports,\n",
    ")"
   ]
  },
  {
   "cell_type": "code",
   "execution_count": 20,
   "id": "e4f0dd44-b9fb-4cb5-9ff1-ab2a7a154020",
   "metadata": {},
   "outputs": [
    {
     "name": "stdout",
     "output_type": "stream",
     "text": [
      "INFO:google.cloud.aiplatform.models:Creating Endpoint\n",
      "INFO:google.cloud.aiplatform.models:Create Endpoint backing LRO: projects/64701051322/locations/us-central1/endpoints/1079887544243453952/operations/2626404593499635712\n",
      "INFO:google.cloud.aiplatform.models:Endpoint created. Resource name: projects/64701051322/locations/us-central1/endpoints/1079887544243453952\n",
      "INFO:google.cloud.aiplatform.models:To use this Endpoint in another session:\n",
      "INFO:google.cloud.aiplatform.models:endpoint = aiplatform.Endpoint('projects/64701051322/locations/us-central1/endpoints/1079887544243453952')\n"
     ]
    }
   ],
   "source": [
    "endpoint_display_name = f\"pt_tmp_forecast-endpoint\"\n",
    "endpoint = aiplatform.Endpoint.create(display_name=endpoint_display_name)"
   ]
  },
  {
   "cell_type": "code",
   "execution_count": 21,
   "id": "756f1a0c-b732-4d38-a940-c4bcbca2c106",
   "metadata": {},
   "outputs": [
    {
     "name": "stdout",
     "output_type": "stream",
     "text": [
      "INFO:google.cloud.aiplatform.models:Deploying model to Endpoint : projects/64701051322/locations/us-central1/endpoints/1079887544243453952\n",
      "INFO:google.cloud.aiplatform.models:Deploy Endpoint model backing LRO: projects/64701051322/locations/us-central1/endpoints/1079887544243453952/operations/5247499576629264384\n",
      "INFO:google.cloud.aiplatform.models:Endpoint model deployed. Resource name: projects/64701051322/locations/us-central1/endpoints/1079887544243453952\n"
     ]
    },
    {
     "data": {
      "text/plain": [
       "<google.cloud.aiplatform.models.Endpoint object at 0x7fe58a5f3ed0> \n",
       "resource name: projects/64701051322/locations/us-central1/endpoints/1079887544243453952"
      ]
     },
     "execution_count": 21,
     "metadata": {},
     "output_type": "execute_result"
    }
   ],
   "source": [
    "traffic_percentage = 100\n",
    "machine_type = \"n1-standard-16\"\n",
    "deployed_model_display_name = model_display_name\n",
    "min_replica_count = 1\n",
    "max_replica_count = 3\n",
    "sync = True\n",
    "\n",
    "model.deploy(\n",
    "    endpoint=endpoint,\n",
    "    deployed_model_display_name=deployed_model_display_name,\n",
    "    machine_type=machine_type,\n",
    "    #traffic_percentage=traffic_percentage,\n",
    "    traffic_split=None,\n",
    "    sync=sync,\n",
    ")"
   ]
  },
  {
   "cell_type": "code",
   "execution_count": 41,
   "id": "7b1ab3d8-41f6-4833-8151-2cdf9f667c55",
   "metadata": {},
   "outputs": [
    {
     "name": "stdout",
     "output_type": "stream",
     "text": [
      "{\"predictions\": [[[-6.839053153991699, -6.9848246574401855, -2.4562153816223145, -3.1393628120422363, -2.8495378494262695, -2.9547688961029053, -3.8950858116149902, -3.958984136581421, -5.280339241027832, -5.265453815460205, -5.643465042114258, -5.765682697296143, -6.447474002838135, -6.877976417541504, -7.253215789794922, -7.215277671813965, -7.322080135345459, -7.348230361938477, -6.279671669006348, -6.468111515045166, -6.686850547790527, -6.77770471572876, -6.858955383300781, -7.053863525390625], [-6.914965629577637, -2.3017570972442627, -3.064727306365967, -2.8028132915496826, -2.92384672164917, -3.9014835357666016, -3.968947410583496, -5.344447135925293, -5.329333305358887, -5.72353458404541, -5.850763320922852, -6.55748176574707, -7.003578186035156, -7.39267635345459, -7.353636741638184, -7.464425563812256, -7.491635322570801, -6.38612174987793, -6.581673622131348, -6.808745384216309, -6.903045654296875, -6.987245559692383, -7.189067840576172, -7.3768229484558105], [-3.573967695236206, -4.02603816986084, -4.1060357093811035, -4.223196029663086, -4.902957916259766, -5.825290679931641, -6.183595180511475, -6.47832727432251, -7.1952362060546875, -7.631104946136475, -7.97562313079834, -8.167187690734863, -8.345895767211914, -8.310022354125977, -8.304868698120117, -8.28420639038086, -7.791108131408691, -7.7537736892700195, -7.762804985046387, -7.7455735206604, -7.716735363006592, -7.69221305847168, -7.76829719543457, -7.69851016998291]]]}\n"
     ]
    }
   ],
   "source": [
    "from google.cloud import bigquery\n",
    "\n",
    "project_id = 'pytorch-tpu-nfs'\n",
    "dataset_id = 'view_dataset'\n",
    "table_id = 'weather_time_series_named'\n",
    "location = 'us-central1'\n",
    "staging_bucket = 'automl-samples'\n",
    "experiment_prefix = 'pytorch-forecasting'\n",
    "\n",
    "sql = f\"\"\"\n",
    "SELECT *\n",
    "FROM  `{project_id}.{dataset_id}.{table_id}`\n",
    "LIMIT 122\n",
    "\"\"\"\n",
    "client = bigquery.Client(location=location, project=project_id)\n",
    "query_job = client.query(\n",
    "  sql,\n",
    "  # Location must match that of the dataset(s) referenced in the query.\n",
    "  location=location,\n",
    ")  # API request - starts the query\n",
    "\n",
    "data = query_job.to_dataframe()\n",
    "data = data.drop(columns=['Date_Time'])\n",
    "sample = data.to_dict()\n",
    "test_data = {'data': sample}\n",
    "\n",
    "\n",
    "import json\n",
    "\n",
    "test_data_json = json.dumps({\"instances\": [test_data]})\n",
    "#test_data_json = json.dumps([test_data])\n",
    "\n",
    "model_name='pt_tmp_forecast'\n",
    "import requests\n",
    "headers = {\"content-type\": \"application/json\"}\n",
    "for _ in range(1):\n",
    "    json_response = requests.post(f'http://localhost:7080/predictions/{model_name}', data=test_data_json, headers=headers)\n",
    "    print(json_response.text)"
   ]
  },
  {
   "cell_type": "code",
   "execution_count": 54,
   "id": "98b1b86b-d5e7-40e8-b236-39cc5e48efe8",
   "metadata": {},
   "outputs": [],
   "source": [
    "#test_instance = {\"instances\": [{\"data\": {\"b64\": f\"{str(b64_encoded.decode('utf-8'))}\"}}]}\n",
    "#{\"instances\":[{'data': json.dumps(sample)}]}"
   ]
  },
  {
   "cell_type": "code",
   "execution_count": 58,
   "id": "86b4b600-5b33-4bc7-905b-03e0c25963d1",
   "metadata": {},
   "outputs": [
    {
     "data": {
      "text/plain": [
       "[id: \"2722610692698931200\"\n",
       "model: \"projects/64701051322/locations/us-central1/models/8965967568699392000\"\n",
       "display_name: \"pt_tmp_forecast\"\n",
       "create_time {\n",
       "  seconds: 1636743459\n",
       "  nanos: 926758000\n",
       "}\n",
       "dedicated_resources {\n",
       "  machine_spec {\n",
       "    machine_type: \"n1-standard-16\"\n",
       "  }\n",
       "  min_replica_count: 1\n",
       "  max_replica_count: 1\n",
       "}\n",
       "]"
      ]
     },
     "execution_count": 58,
     "metadata": {},
     "output_type": "execute_result"
    }
   ],
   "source": [
    "#dir(endpoint)\n",
    "endpoint.list_models()"
   ]
  },
  {
   "cell_type": "code",
   "execution_count": 59,
   "id": "2395914a-7f5c-4337-b2ef-f7932cb9c162",
   "metadata": {},
   "outputs": [],
   "source": [
    "#prediction = endpoint.predict(instances={\"instances\":[{'data': json.dumps(sample)}]})\n",
    "#prediction = endpoint.predict(instances=[{'data': json.dumps(sample)}])"
   ]
  },
  {
   "cell_type": "code",
   "execution_count": 42,
   "id": "d43d1872-1f91-47cf-b919-b471385cc00c",
   "metadata": {},
   "outputs": [],
   "source": [
    "# import google.auth\n",
    "# import google.auth.transport.requests\n",
    "# creds, project = google.auth.default()\n",
    "\n",
    "# # creds.valid is False, and creds.token is None\n",
    "# # Need to refresh credentials to populate those\n",
    "\n",
    "# auth_req = google.auth.transport.requests.Request()\n",
    "# creds.refresh(auth_req)\n",
    "# model_name='pt_tmp_forecast'\n",
    "# import requests\n",
    "# headers = {\"content-type\": \"application/json\", \"Authorization\": f\"Bearer {creds.token}\"}\n",
    "# for _ in range(1):\n",
    "#     json_response = requests.post(f'https://us-central1-aiplatform.googleapis.com/v1/projects/${PROJECT_ID}/locations/us-central1/endpoints/${ENDPOINT_ID}', data=test_data_json, headers=headers)\n",
    "#     print(json_response.text)"
   ]
  },
  {
   "cell_type": "code",
   "execution_count": 38,
   "id": "d7dda148-3974-4836-9dd3-21bf818325ac",
   "metadata": {},
   "outputs": [],
   "source": [
    "ENDPOINT_ID=1079887544243453952\n",
    "PROJECT_ID='pytorch-tpu-nfs'"
   ]
  },
  {
   "cell_type": "code",
   "execution_count": 45,
   "id": "472165b7-43d7-413a-87c8-773801dc2b2a",
   "metadata": {},
   "outputs": [],
   "source": [
    "with open('test_sample.json', 'w') as f:\n",
    "    f.write(test_data_json)"
   ]
  },
  {
   "cell_type": "code",
   "execution_count": 48,
   "id": "fed55cf8-062b-476e-814f-fe34df72ee9a",
   "metadata": {},
   "outputs": [
    {
     "name": "stdout",
     "output_type": "stream",
     "text": [
      "{\n",
      "  \"predictions\": [\n",
      "    [\n",
      "      [\n",
      "        -0.29288816452026373,\n",
      "        -0.31888580322265619,\n",
      "        -0.25240516662597662,\n",
      "        -0.2158665657043457,\n",
      "        -5.4028177261352539,\n",
      "        -0.18531084060668951,\n",
      "        -0.20907926559448239,\n",
      "        -0.19388437271118161,\n",
      "        -0.16332101821899411,\n",
      "        -0.23616600036621091,\n",
      "        -0.14554452896118161,\n",
      "        -0.35846328735351562,\n",
      "        -0.32310914993286127,\n",
      "        -0.31539392471313482,\n",
      "        -0.25215387344360352,\n",
      "        -4.85932731628418,\n",
      "        -0.36718368530273438,\n",
      "        -0.178004264831543,\n",
      "        -0.20507144927978521,\n",
      "        -0.20117282867431641,\n",
      "        -0.15401315689086911,\n",
      "        -0.1605944633483887,\n",
      "        -0.2156224250793457,\n",
      "        -0.187103271484375\n",
      "      ],\n",
      "      [\n",
      "        -0.281463623046875,\n",
      "        -0.21218538284301761,\n",
      "        -0.17242574691772461,\n",
      "        -5.453589916229248,\n",
      "        -0.13939571380615229,\n",
      "        -0.16272592544555661,\n",
      "        -0.14703655242919919,\n",
      "        -0.1161155700683594,\n",
      "        -0.18897771835327151,\n",
      "        -0.097904682159423828,\n",
      "        -0.31078577041625982,\n",
      "        -0.27515268325805659,\n",
      "        -0.26736736297607422,\n",
      "        -0.2039909362792969,\n",
      "        -4.8264069557189941,\n",
      "        -0.3189997673034668,\n",
      "        -0.12960910797119141,\n",
      "        -0.15658283233642581,\n",
      "        -0.15271329879760739,\n",
      "        -0.1055607795715332,\n",
      "        -0.11217069625854489,\n",
      "        -0.1671338081359863,\n",
      "        -0.13859748840332031,\n",
      "        -0.1839098930358887\n",
      "      ],\n",
      "      [\n",
      "        -0.18623638153076169,\n",
      "        -0.14444112777709961,\n",
      "        -5.55334997177124,\n",
      "        -0.1074314117431641,\n",
      "        -0.1301875114440918,\n",
      "        -0.11401462554931641,\n",
      "        -0.082906246185302734,\n",
      "        -0.15545558929443359,\n",
      "        -0.064336776733398438,\n",
      "        -0.2763066291809082,\n",
      "        -0.24049472808837891,\n",
      "        -0.23265981674194339,\n",
      "        -0.16938543319702151,\n",
      "        -4.7868270874023438,\n",
      "        -0.28387546539306641,\n",
      "        -0.0950465202331543,\n",
      "        -0.1217851638793945,\n",
      "        -0.1179566383361816,\n",
      "        -0.071021080017089844,\n",
      "        -0.0776357650756836,\n",
      "        -0.132265567779541,\n",
      "        -0.103846549987793,\n",
      "        -0.14899444580078119,\n",
      "        -0.1833949089050293\n",
      "      ]\n",
      "    ]\n",
      "  ],\n",
      "  \"deployedModelId\": \"2722610692698931200\",\n",
      "  \"model\": \"projects/64701051322/locations/us-central1/models/8965967568699392000\",\n",
      "  \"modelDisplayName\": \"pt_tmp_forecast\"\n",
      "}\n"
     ]
    }
   ],
   "source": [
    "!curl \\\n",
    "-X POST \\\n",
    "-H \"Authorization: Bearer $(gcloud auth print-access-token)\" \\\n",
    "-H \"Content-Type: application/json\" \\\n",
    "https://us-central1-aiplatform.googleapis.com/v1/projects/{PROJECT_ID}/locations/us-central1/endpoints/{ENDPOINT_ID}:predict \\\n",
    "-d \"@test_sample.json\""
   ]
  },
  {
   "cell_type": "code",
   "execution_count": 47,
   "id": "26ec21a8-1b20-4ec8-bb91-8e922dad07ca",
   "metadata": {},
   "outputs": [],
   "source": [
    "#test_data_json"
   ]
  },
  {
   "cell_type": "code",
   "execution_count": null,
   "id": "610163dd-c2fc-495e-9cea-f11950945264",
   "metadata": {},
   "outputs": [],
   "source": []
  }
 ],
 "metadata": {
  "environment": {
   "kernel": "python3",
   "name": "pytorch-gpu.1-9.m82",
   "type": "gcloud",
   "uri": "gcr.io/deeplearning-platform-release/pytorch-gpu.1-9:m82"
  },
  "kernelspec": {
   "display_name": "Python 3",
   "language": "python",
   "name": "python3"
  },
  "language_info": {
   "codemirror_mode": {
    "name": "ipython",
    "version": 3
   },
   "file_extension": ".py",
   "mimetype": "text/x-python",
   "name": "python",
   "nbconvert_exporter": "python",
   "pygments_lexer": "ipython3",
   "version": "3.7.10"
  }
 },
 "nbformat": 4,
 "nbformat_minor": 5
}
